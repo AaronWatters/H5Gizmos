{
 "cells": [
  {
   "cell_type": "markdown",
   "id": "12e86c9d",
   "metadata": {},
   "source": [
    "# Tests for the examine module\n",
    "\n",
    "The `H5Gizmos.python.examine` allows the user to interactively explore a Python data structure."
   ]
  },
  {
   "cell_type": "code",
   "execution_count": null,
   "id": "75e67dc3",
   "metadata": {},
   "outputs": [],
   "source": [
    "from H5Gizmos.python import examine"
   ]
  },
  {
   "cell_type": "code",
   "execution_count": null,
   "id": "0a85f94b",
   "metadata": {},
   "outputs": [],
   "source": [
    "# Explore the `collections` module in a new window or tab:\n",
    "# Use the gz_examine script to launch an explorer like this one from the command line.\n",
    "#   $ gz_examine \"import collections\"\n",
    "\n",
    "import collections\n",
    "await examine.examine(collections)"
   ]
  },
  {
   "cell_type": "code",
   "execution_count": null,
   "id": "d5b322ff",
   "metadata": {},
   "outputs": [],
   "source": [
    "# Examine a numeric python array in an embedded iframe\n",
    "\n",
    "import numpy as np\n",
    "A = np.arange(5*2*3).reshape((5,3,2))\n",
    "await examine.examine(A, link=False)"
   ]
  },
  {
   "cell_type": "code",
   "execution_count": null,
   "id": "dfd0712d",
   "metadata": {},
   "outputs": [],
   "source": [
    "# Examine an object which uses __slots__ in an embedded iframe:\n",
    "import http\n",
    "\n",
    "class Example():\n",
    "    __slots__ = (\"slot_0\", \"slot_1\")\n",
    "    \n",
    "    def __init__(self):\n",
    "        self.slot_0 = \"zero\"\n",
    "        self.slot_1 = http\n",
    "        \n",
    "x1 = Example()\n",
    "await examine.examine(x1, link=False)"
   ]
  },
  {
   "cell_type": "code",
   "execution_count": null,
   "id": "6b80be3f",
   "metadata": {},
   "outputs": [],
   "source": []
  }
 ],
 "metadata": {
  "kernelspec": {
   "display_name": "Python 3",
   "language": "python",
   "name": "python3"
  },
  "language_info": {
   "codemirror_mode": {
    "name": "ipython",
    "version": 3
   },
   "file_extension": ".py",
   "mimetype": "text/x-python",
   "name": "python",
   "nbconvert_exporter": "python",
   "pygments_lexer": "ipython3",
   "version": "3.6.8"
  }
 },
 "nbformat": 4,
 "nbformat_minor": 5
}
