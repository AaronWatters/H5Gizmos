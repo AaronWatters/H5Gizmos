{
 "cells": [
  {
   "cell_type": "markdown",
   "id": "3c079b44",
   "metadata": {},
   "source": [
    "# Test proxy with iframe in Jupyter notebook\n",
    "\n",
    "This notebook provides a trivial example of an H5Gizmo interface embedded in Jupyter."
   ]
  },
  {
   "cell_type": "code",
   "execution_count": null,
   "id": "f5c24667",
   "metadata": {},
   "outputs": [],
   "source": [
    "from H5Gizmos import serve, CheckBoxes, get\n",
    "\n",
    "beatles = \"John Paul George Ringo\".split()\n",
    "G = CheckBoxes(beatles, legend=\"your favorite\")\n",
    "await G.iframe(proxy=True)\n",
    "\n",
    "feedback = G.add(\"Nothing selected yet.\")\n",
    "\n",
    "def checked(values):\n",
    "    feedback.text(\"Selected: \" + repr(values))\n",
    "    \n",
    "G.set_on_click(checked)"
   ]
  },
  {
   "cell_type": "code",
   "execution_count": null,
   "id": "86b0702a",
   "metadata": {},
   "outputs": [],
   "source": [
    "await get(feedback.element.text())"
   ]
  },
  {
   "cell_type": "code",
   "execution_count": null,
   "id": "29285225",
   "metadata": {},
   "outputs": [],
   "source": [
    "from H5Gizmos import do\n",
    "do(G.window.console.log(\"test log message\"))"
   ]
  },
  {
   "cell_type": "code",
   "execution_count": null,
   "id": "b636166e",
   "metadata": {},
   "outputs": [],
   "source": [
    "import numpy as np\n",
    "A = np.arange(10)/11.1\n",
    "A = A.astype(np.float32)\n",
    "reference = await G.store_array(A, \"my_array\")\n",
    "do(G.window.console.log(reference))"
   ]
  },
  {
   "cell_type": "code",
   "execution_count": null,
   "id": "2cd1b6fb",
   "metadata": {},
   "outputs": [],
   "source": [
    "x = \"xxx\"\n",
    "type(x.encode('utf-8')) is bytes"
   ]
  },
  {
   "cell_type": "code",
   "execution_count": null,
   "id": "1089b5aa",
   "metadata": {},
   "outputs": [],
   "source": [
    "B = await G.get_array_from_buffer(reference, dtype=np.float32)\n",
    "np.abs(A - B).max()"
   ]
  },
  {
   "cell_type": "code",
   "execution_count": null,
   "id": "595fb9a2",
   "metadata": {},
   "outputs": [],
   "source": [
    "B"
   ]
  },
  {
   "cell_type": "code",
   "execution_count": null,
   "id": "0eb23d32",
   "metadata": {},
   "outputs": [],
   "source": [
    "A"
   ]
  },
  {
   "cell_type": "code",
   "execution_count": null,
   "id": "a37c16c1",
   "metadata": {},
   "outputs": [],
   "source": [
    "await get(G.gizmo.window.location.protocol)"
   ]
  },
  {
   "cell_type": "code",
   "execution_count": null,
   "id": "c8e0314c",
   "metadata": {},
   "outputs": [],
   "source": [
    "await get(G.gizmo.H5GIZMO_INTERFACE.ws_url)"
   ]
  },
  {
   "cell_type": "code",
   "execution_count": null,
   "id": "5a515749",
   "metadata": {},
   "outputs": [],
   "source": []
  },
  {
   "cell_type": "code",
   "execution_count": null,
   "id": "91e98617",
   "metadata": {},
   "outputs": [],
   "source": []
  }
 ],
 "metadata": {
  "kernelspec": {
   "display_name": "Python 3 (ipykernel)",
   "language": "python",
   "name": "python3"
  },
  "language_info": {
   "codemirror_mode": {
    "name": "ipython",
    "version": 3
   },
   "file_extension": ".py",
   "mimetype": "text/x-python",
   "name": "python",
   "nbconvert_exporter": "python",
   "pygments_lexer": "ipython3",
   "version": "3.8.11"
  }
 },
 "nbformat": 4,
 "nbformat_minor": 5
}
