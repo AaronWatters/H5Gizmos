{
 "cells": [
  {
   "cell_type": "markdown",
   "id": "85a43157",
   "metadata": {},
   "source": [
    "# H5Gizmos in Jupyter\n",
    "\n",
    "This notebook provides a trivial example of an H5Gizmo interface embedded in Jupyter."
   ]
  },
  {
   "cell_type": "code",
   "execution_count": 1,
   "id": "e1252c6d",
   "metadata": {},
   "outputs": [
    {
     "data": {
      "text/html": [
       "\n",
       "<script>\n",
       "(function () {\n",
       "    var identifier = \"Gizmo_1646414234921_1\";\n",
       "    window.addEventListener(\"message\", function(e) {\n",
       "        var this_frame = document.getElementById(identifier);\n",
       "        var margin = 10;\n",
       "        var min_height = 20;\n",
       "        if ((this_frame) && (this_frame.contentWindow === e.source)) {\n",
       "            //console.log(\"processing message\", e.data.height);\n",
       "            var height = Math.max(min_height, e.data.height + margin)\n",
       "            var height_px = (height) + \"px\";\n",
       "            this_frame.height = height_px;\n",
       "            this_frame.style.height = height_px;\n",
       "        }\n",
       "    });\n",
       "}) ();\n",
       "</script>\n",
       "\n",
       "<iframe id=\"Gizmo_1646414234921_1\"\n",
       "    title=\"Gizmo_1646414234921_1\"\n",
       "    width=\"100%\"\n",
       "    height=\"20px\"\n",
       "    src=\"http://127.0.0.1:8675/gizmo/http/MGR0/index.html\"\n",
       "    allow=\"camera;microphone;display-capture;autoplay\"\n",
       "</iframe>"
      ],
      "text/plain": [
       "<IPython.core.display.HTML object>"
      ]
     },
     "metadata": {},
     "output_type": "display_data"
    }
   ],
   "source": [
    "from H5Gizmos import serve, CheckBoxes, get\n",
    "\n",
    "beatles = \"John Paul George Ringo\".split()\n",
    "G = CheckBoxes(beatles, legend=\"your favorite\")\n",
    "await G.show()\n",
    "\n",
    "feedback = G.add(\"Nothing selected yet.\")\n",
    "\n",
    "def checked(values):\n",
    "    feedback.text(\"Selected: \" + repr(values))\n",
    "    \n",
    "G.set_on_click(checked)"
   ]
  },
  {
   "cell_type": "code",
   "execution_count": 2,
   "id": "22299833",
   "metadata": {},
   "outputs": [
    {
     "data": {
      "text/plain": [
       "\"Selected: ['Paul', 'Ringo']\""
      ]
     },
     "execution_count": 2,
     "metadata": {},
     "output_type": "execute_result"
    }
   ],
   "source": [
    "await get(feedback.element.text())"
   ]
  },
  {
   "cell_type": "code",
   "execution_count": null,
   "id": "05e74255",
   "metadata": {},
   "outputs": [],
   "source": []
  }
 ],
 "metadata": {
  "kernelspec": {
   "display_name": "Python 3",
   "language": "python",
   "name": "python3"
  },
  "language_info": {
   "codemirror_mode": {
    "name": "ipython",
    "version": 3
   },
   "file_extension": ".py",
   "mimetype": "text/x-python",
   "name": "python",
   "nbconvert_exporter": "python",
   "pygments_lexer": "ipython3",
   "version": "3.6.8"
  }
 },
 "nbformat": 4,
 "nbformat_minor": 5
}
