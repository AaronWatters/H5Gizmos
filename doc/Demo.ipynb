{
 "cells": [
  {
   "cell_type": "markdown",
   "id": "3c079b44",
   "metadata": {},
   "source": [
    "# H5Gizmos in Jupyter\n",
    "\n",
    "This notebook provides a trivial example of an H5Gizmo interface embedded in Jupyter."
   ]
  },
  {
   "cell_type": "code",
   "execution_count": null,
   "id": "f5c24667",
   "metadata": {},
   "outputs": [],
   "source": [
    "from H5Gizmos import serve, CheckBoxes, get\n",
    "\n",
    "beatles = \"John Paul George Ringo\".split()\n",
    "G = CheckBoxes(beatles, legend=\"your favorite\")\n",
    "await G.show()\n",
    "\n",
    "feedback = G.add(\"Nothing selected yet.\")\n",
    "\n",
    "def checked(values):\n",
    "    feedback.text(\"Selected: \" + repr(values))\n",
    "    \n",
    "G.set_on_click(checked)"
   ]
  },
  {
   "cell_type": "code",
   "execution_count": null,
   "id": "86b0702a",
   "metadata": {},
   "outputs": [],
   "source": [
    "await get(feedback.element.text())"
   ]
  },
  {
   "cell_type": "code",
   "execution_count": null,
   "id": "29285225",
   "metadata": {},
   "outputs": [],
   "source": []
  }
 ],
 "metadata": {
  "kernelspec": {
   "display_name": "Python 3",
   "language": "python",
   "name": "python3"
  },
  "language_info": {
   "codemirror_mode": {
    "name": "ipython",
    "version": 3
   },
   "file_extension": ".py",
   "mimetype": "text/x-python",
   "name": "python",
   "nbconvert_exporter": "python",
   "pygments_lexer": "ipython3",
   "version": "3.6.8"
  }
 },
 "nbformat": 4,
 "nbformat_minor": 5
}
