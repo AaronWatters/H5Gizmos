{
 "cells": [
  {
   "cell_type": "code",
   "execution_count": null,
   "id": "556bb1a9",
   "metadata": {},
   "outputs": [],
   "source": []
  },
  {
   "cell_type": "code",
   "execution_count": 1,
   "id": "e4829e9d",
   "metadata": {},
   "outputs": [
    {
     "data": {
      "text/html": [
       "\n",
       "<script>\n",
       "(function () {\n",
       "    var identifier = \"Gizmo_1651256938418_1\";\n",
       "    window.addEventListener(\"message\", function(e) {\n",
       "        var this_frame = document.getElementById(identifier);\n",
       "        var margin = 10;\n",
       "        var min_height = 20;\n",
       "        if ((this_frame) && (this_frame.contentWindow === e.source)) {\n",
       "            //console.log(\"processing message\", e.data.height);\n",
       "            var height = Math.max(min_height, e.data.height + margin)\n",
       "            var height_px = (height) + \"px\";\n",
       "            this_frame.height = height_px;\n",
       "            this_frame.style.height = height_px;\n",
       "        }\n",
       "    });\n",
       "}) ();\n",
       "</script>\n",
       "\n",
       "<iframe id=\"Gizmo_1651256938418_1\"\n",
       "    title=\"Gizmo_1651256938418_1\"\n",
       "    width=\"100%\"\n",
       "    height=\"20px\"\n",
       "    src=\"http://127.0.0.1:8676/gizmo/http/MGR_1651256938418_2/index.html\"\n",
       "    allow=\"camera;microphone;display-capture;autoplay\"\n",
       "</iframe>"
      ],
      "text/plain": [
       "<IPython.core.display.HTML object>"
      ]
     },
     "metadata": {},
     "output_type": "display_data"
    },
    {
     "name": "stdout",
     "output_type": "stream",
     "text": [
      "The inner height is 16\n",
      "The element height is 38.88888931274414\n"
     ]
    }
   ],
   "source": [
    "# Sending commands from parent to child\n",
    "from H5Gizmos import Html, serve, do, get\n",
    "\n",
    "async def task():\n",
    "    greeting = Html(\"<h1>Hello</h1>\")\n",
    "    await greeting.show()\n",
    "\n",
    "    # Get some values:\n",
    "    innerHeight = await get(greeting.window.innerHeight)\n",
    "    print (\"The inner height is\", innerHeight)\n",
    "    height = await get(greeting.element.height())\n",
    "    print (\"The element height is\", height)\n",
    "\n",
    "    # Do some actions\n",
    "    do(greeting.window.console.log(\"testing testing\", [1, 2, 3]))\n",
    "    do(greeting.element.text(\"Goodbye!\"))\n",
    "\n",
    "await task()"
   ]
  },
  {
   "cell_type": "code",
   "execution_count": 2,
   "id": "7ae5f138",
   "metadata": {},
   "outputs": [
    {
     "data": {
      "text/html": [
       "\n",
       "<script>\n",
       "(function () {\n",
       "    var identifier = \"Gizmo_1651257029704_4\";\n",
       "    window.addEventListener(\"message\", function(e) {\n",
       "        var this_frame = document.getElementById(identifier);\n",
       "        var margin = 10;\n",
       "        var min_height = 20;\n",
       "        if ((this_frame) && (this_frame.contentWindow === e.source)) {\n",
       "            //console.log(\"processing message\", e.data.height);\n",
       "            var height = Math.max(min_height, e.data.height + margin)\n",
       "            var height_px = (height) + \"px\";\n",
       "            this_frame.height = height_px;\n",
       "            this_frame.style.height = height_px;\n",
       "        }\n",
       "    });\n",
       "}) ();\n",
       "</script>\n",
       "\n",
       "<iframe id=\"Gizmo_1651257029704_4\"\n",
       "    title=\"Gizmo_1651257029704_4\"\n",
       "    width=\"100%\"\n",
       "    height=\"20px\"\n",
       "    src=\"http://127.0.0.1:8676/gizmo/http/MGR_1651257029704_5/index.html\"\n",
       "    allow=\"camera;microphone;display-capture;autoplay\"\n",
       "</iframe>"
      ],
      "text/plain": [
       "<IPython.core.display.HTML object>"
      ]
     },
     "metadata": {},
     "output_type": "display_data"
    }
   ],
   "source": [
    "from H5Gizmos import Html, get, do\n",
    "greeting = Html(\"<div><p>Paragraph 1</p> <p>Paragraph 2</p><div>\")\n",
    "await greeting.show()"
   ]
  },
  {
   "cell_type": "code",
   "execution_count": 3,
   "id": "978ff672",
   "metadata": {},
   "outputs": [
    {
     "data": {
      "text/plain": [
       "_CACHE_['jQueryComponent_1651257029705_6'][V(L('element'))]"
      ]
     },
     "execution_count": 3,
     "metadata": {},
     "output_type": "execute_result"
    }
   ],
   "source": [
    "greeting.element"
   ]
  },
  {
   "cell_type": "code",
   "execution_count": 4,
   "id": "504ce1d8",
   "metadata": {},
   "outputs": [
    {
     "data": {
      "text/plain": [
       "_CACHE_['jQueryComponent_1651257029705_6'][V(L('element'))][V(L('children'))]()[V(L('length'))]"
      ]
     },
     "execution_count": 4,
     "metadata": {},
     "output_type": "execute_result"
    }
   ],
   "source": [
    "greeting.element.children().length"
   ]
  },
  {
   "cell_type": "code",
   "execution_count": 5,
   "id": "ea315de3",
   "metadata": {},
   "outputs": [
    {
     "data": {
      "text/plain": [
       "3"
      ]
     },
     "execution_count": 5,
     "metadata": {},
     "output_type": "execute_result"
    }
   ],
   "source": [
    "await get(greeting.element.children().length)"
   ]
  },
  {
   "cell_type": "code",
   "execution_count": 6,
   "id": "83482dff",
   "metadata": {},
   "outputs": [
    {
     "data": {
      "text/plain": [
       "'Paragraph 1'"
      ]
     },
     "execution_count": 6,
     "metadata": {},
     "output_type": "execute_result"
    }
   ],
   "source": [
    "await get(greeting.element.children()[0].innerText)"
   ]
  },
  {
   "cell_type": "code",
   "execution_count": 7,
   "id": "f4e8ec03",
   "metadata": {},
   "outputs": [
    {
     "data": {
      "text/plain": [
       "'Google Inc.'"
      ]
     },
     "execution_count": 7,
     "metadata": {},
     "output_type": "execute_result"
    }
   ],
   "source": [
    "await get(greeting.window.clientInformation.vendor)"
   ]
  },
  {
   "cell_type": "code",
   "execution_count": 8,
   "id": "af9c568e",
   "metadata": {},
   "outputs": [
    {
     "data": {
      "text/plain": [
       "'127.0.0.1'"
      ]
     },
     "execution_count": 8,
     "metadata": {},
     "output_type": "execute_result"
    }
   ],
   "source": [
    "await get(greeting.document.location.hostname)\n"
   ]
  },
  {
   "cell_type": "code",
   "execution_count": 9,
   "id": "8ce34ceb",
   "metadata": {},
   "outputs": [
    {
     "data": {
      "text/plain": [
       "'3.1.1'"
      ]
     },
     "execution_count": 9,
     "metadata": {},
     "output_type": "execute_result"
    }
   ],
   "source": [
    "await get(greeting.jQuery().jquery)"
   ]
  },
  {
   "cell_type": "code",
   "execution_count": 10,
   "id": "e52e48f2",
   "metadata": {},
   "outputs": [
    {
     "data": {
      "text/html": [
       "\n",
       "<script>\n",
       "(function () {\n",
       "    var identifier = \"Gizmo_1651257167858_7\";\n",
       "    window.addEventListener(\"message\", function(e) {\n",
       "        var this_frame = document.getElementById(identifier);\n",
       "        var margin = 10;\n",
       "        var min_height = 20;\n",
       "        if ((this_frame) && (this_frame.contentWindow === e.source)) {\n",
       "            //console.log(\"processing message\", e.data.height);\n",
       "            var height = Math.max(min_height, e.data.height + margin)\n",
       "            var height_px = (height) + \"px\";\n",
       "            this_frame.height = height_px;\n",
       "            this_frame.style.height = height_px;\n",
       "        }\n",
       "    });\n",
       "}) ();\n",
       "</script>\n",
       "\n",
       "<iframe id=\"Gizmo_1651257167858_7\"\n",
       "    title=\"Gizmo_1651257167858_7\"\n",
       "    width=\"100%\"\n",
       "    height=\"20px\"\n",
       "    src=\"http://127.0.0.1:8676/gizmo/http/MGR_1651257167859_8/index.html\"\n",
       "    allow=\"camera;microphone;display-capture;autoplay\"\n",
       "</iframe>"
      ],
      "text/plain": [
       "<IPython.core.display.HTML object>"
      ]
     },
     "metadata": {},
     "output_type": "display_data"
    }
   ],
   "source": [
    "from H5Gizmos import Html, do\n",
    "\n",
    "div = Html(\"<div>The increment function</div>\")\n",
    "await div.show()\n",
    "do(div.jQuery(\"<pre>lambda(x): x+1</pre>\").appendTo(div.element))"
   ]
  },
  {
   "cell_type": "code",
   "execution_count": 11,
   "id": "b1024621",
   "metadata": {},
   "outputs": [
    {
     "ename": "JavascriptEvalException",
     "evalue": "js error: 'Error: get no_such_function from [object Object] not truthy: undefined'",
     "output_type": "error",
     "traceback": [
      "\u001b[0;31m---------------------------------------------------------------------------\u001b[0m",
      "\u001b[0;31mJavascriptEvalException\u001b[0m                   Traceback (most recent call last)",
      "\u001b[0;32m<ipython-input-11-d9a9e28a03b6>\u001b[0m in \u001b[0;36masync-def-wrapper\u001b[0;34m()\u001b[0m\n",
      "\u001b[0;32m~/repos/H5Gizmos/H5Gizmos/python/H5Gizmos.py\u001b[0m in \u001b[0;36mget\u001b[0;34m(link_action, to_depth, timeout)\u001b[0m\n\u001b[1;32m     37\u001b[0m     \u001b[0;34m\"Run the link in javascript and return the result.\"\u001b[0m\u001b[0;34m\u001b[0m\u001b[0;34m\u001b[0m\u001b[0m\n\u001b[1;32m     38\u001b[0m     \u001b[0;31m# command style convenience convenience accessor\u001b[0m\u001b[0;34m\u001b[0m\u001b[0;34m\u001b[0m\u001b[0;34m\u001b[0m\u001b[0m\n\u001b[0;32m---> 39\u001b[0;31m     \u001b[0;32mreturn\u001b[0m \u001b[0mawait\u001b[0m \u001b[0mlink_action\u001b[0m\u001b[0;34m.\u001b[0m\u001b[0m_get\u001b[0m\u001b[0;34m(\u001b[0m\u001b[0mto_depth\u001b[0m\u001b[0;34m=\u001b[0m\u001b[0mto_depth\u001b[0m\u001b[0;34m,\u001b[0m \u001b[0mtimeout\u001b[0m\u001b[0;34m=\u001b[0m\u001b[0mtimeout\u001b[0m\u001b[0;34m)\u001b[0m\u001b[0;34m\u001b[0m\u001b[0;34m\u001b[0m\u001b[0m\n\u001b[0m\u001b[1;32m     40\u001b[0m \u001b[0;34m\u001b[0m\u001b[0m\n\u001b[1;32m     41\u001b[0m \u001b[0;32mdef\u001b[0m \u001b[0mname\u001b[0m\u001b[0;34m(\u001b[0m\u001b[0mid\u001b[0m\u001b[0;34m,\u001b[0m \u001b[0mlink_action\u001b[0m\u001b[0;34m,\u001b[0m \u001b[0mto_depth\u001b[0m\u001b[0;34m=\u001b[0m\u001b[0;32mNone\u001b[0m\u001b[0;34m)\u001b[0m\u001b[0;34m:\u001b[0m\u001b[0;34m\u001b[0m\u001b[0;34m\u001b[0m\u001b[0m\n",
      "\u001b[0;32m~/repos/H5Gizmos/H5Gizmos/python/H5Gizmos.py\u001b[0m in \u001b[0;36m_get\u001b[0;34m(self, to_depth, timeout, oid, future, test_result)\u001b[0m\n\u001b[1;32m    661\u001b[0m         \u001b[0;32mif\u001b[0m \u001b[0mtest_result\u001b[0m \u001b[0;32mis\u001b[0m \u001b[0;32mnot\u001b[0m \u001b[0;32mNone\u001b[0m\u001b[0;34m:\u001b[0m\u001b[0;34m\u001b[0m\u001b[0;34m\u001b[0m\u001b[0m\n\u001b[1;32m    662\u001b[0m             \u001b[0;32mreturn\u001b[0m \u001b[0mtest_result\u001b[0m  \u001b[0;31m# only for code coverage...\u001b[0m\u001b[0;34m\u001b[0m\u001b[0;34m\u001b[0m\u001b[0m\n\u001b[0;32m--> 663\u001b[0;31m         \u001b[0mawait\u001b[0m \u001b[0mfuture\u001b[0m\u001b[0;34m\u001b[0m\u001b[0;34m\u001b[0m\u001b[0m\n\u001b[0m\u001b[1;32m    664\u001b[0m         \u001b[0mself\u001b[0m\u001b[0;34m.\u001b[0m\u001b[0m_get_oid\u001b[0m \u001b[0;34m=\u001b[0m \u001b[0;32mNone\u001b[0m\u001b[0;34m\u001b[0m\u001b[0;34m\u001b[0m\u001b[0m\n\u001b[1;32m    665\u001b[0m         \u001b[0mself\u001b[0m\u001b[0;34m.\u001b[0m\u001b[0m_get_future\u001b[0m \u001b[0;34m=\u001b[0m \u001b[0;32mNone\u001b[0m\u001b[0;34m\u001b[0m\u001b[0;34m\u001b[0m\u001b[0m\n",
      "\u001b[0;31mJavascriptEvalException\u001b[0m: js error: 'Error: get no_such_function from [object Object] not truthy: undefined'"
     ]
    }
   ],
   "source": [
    "test = await get(greeting.element.no_such_function(3))"
   ]
  },
  {
   "cell_type": "code",
   "execution_count": 12,
   "id": "cd6191f1",
   "metadata": {},
   "outputs": [
    {
     "data": {
      "text/html": [
       "\n",
       "<script>\n",
       "(function () {\n",
       "    var identifier = \"Gizmo_1651257244020_10\";\n",
       "    window.addEventListener(\"message\", function(e) {\n",
       "        var this_frame = document.getElementById(identifier);\n",
       "        var margin = 10;\n",
       "        var min_height = 20;\n",
       "        if ((this_frame) && (this_frame.contentWindow === e.source)) {\n",
       "            //console.log(\"processing message\", e.data.height);\n",
       "            var height = Math.max(min_height, e.data.height + margin)\n",
       "            var height_px = (height) + \"px\";\n",
       "            this_frame.height = height_px;\n",
       "            this_frame.style.height = height_px;\n",
       "        }\n",
       "    });\n",
       "}) ();\n",
       "</script>\n",
       "\n",
       "<iframe id=\"Gizmo_1651257244020_10\"\n",
       "    title=\"Gizmo_1651257244020_10\"\n",
       "    width=\"100%\"\n",
       "    height=\"20px\"\n",
       "    src=\"http://127.0.0.1:8676/gizmo/http/MGR_1651257244020_11/index.html\"\n",
       "    allow=\"camera;microphone;display-capture;autoplay\"\n",
       "</iframe>"
      ],
      "text/plain": [
       "<IPython.core.display.HTML object>"
      ]
     },
     "metadata": {},
     "output_type": "display_data"
    }
   ],
   "source": [
    "from H5Gizmos import Html, name, get\n",
    "greeting = Html(\"<h4>Hello</h4>\")\n",
    "await greeting.show()\n",
    "\n",
    "location = name(\"location\", greeting.document.location)"
   ]
  },
  {
   "cell_type": "code",
   "execution_count": 13,
   "id": "d09af8c9",
   "metadata": {},
   "outputs": [
    {
     "data": {
      "text/plain": [
       "'http://127.0.0.1:8676/gizmo/http/MGR_1651257244020_11/index.html'"
      ]
     },
     "execution_count": 13,
     "metadata": {},
     "output_type": "execute_result"
    }
   ],
   "source": [
    "await get(location.toString())"
   ]
  },
  {
   "cell_type": "code",
   "execution_count": 15,
   "id": "aeae62fc",
   "metadata": {},
   "outputs": [
    {
     "data": {
      "text/html": [
       "\n",
       "<script>\n",
       "(function () {\n",
       "    var identifier = \"Gizmo_1651257315768_16\";\n",
       "    window.addEventListener(\"message\", function(e) {\n",
       "        var this_frame = document.getElementById(identifier);\n",
       "        var margin = 10;\n",
       "        var min_height = 20;\n",
       "        if ((this_frame) && (this_frame.contentWindow === e.source)) {\n",
       "            //console.log(\"processing message\", e.data.height);\n",
       "            var height = Math.max(min_height, e.data.height + margin)\n",
       "            var height_px = (height) + \"px\";\n",
       "            this_frame.height = height_px;\n",
       "            this_frame.style.height = height_px;\n",
       "        }\n",
       "    });\n",
       "}) ();\n",
       "</script>\n",
       "\n",
       "<iframe id=\"Gizmo_1651257315768_16\"\n",
       "    title=\"Gizmo_1651257315768_16\"\n",
       "    width=\"100%\"\n",
       "    height=\"20px\"\n",
       "    src=\"http://127.0.0.1:8676/gizmo/http/MGR_1651257315768_17/index.html\"\n",
       "    allow=\"camera;microphone;display-capture;autoplay\"\n",
       "</iframe>"
      ],
      "text/plain": [
       "<IPython.core.display.HTML object>"
      ]
     },
     "metadata": {},
     "output_type": "display_data"
    }
   ],
   "source": [
    "import numpy as np\n",
    "from H5Gizmos import Html\n",
    "\n",
    "greeting = Html(\"<h3>Hello</h3>\")\n",
    "await greeting.show()\n",
    "\n",
    "def callable_example(*arguments):\n",
    "    print(\"callback called with arguments: \", arguments)\n",
    "\n",
    "structure = {\n",
    "    \"none\": None,\n",
    "    \"number\": 3.1,\n",
    "    \"string\": \"Bohemian Rhapsody\",\n",
    "    \"bool\": False,\n",
    "    \"dictionary\": {\"lie\": \"falsehood\"},\n",
    "    \"list\": [1,2,\"three\"],\n",
    "    \"bytearray\": bytearray([0,5,211,6]),\n",
    "    \"callable\": callable_example,\n",
    "    \"1d numeric array\": np.arange(10),\n",
    "    \"2d numeric array\": np.arange(10).reshape(2,5),\n",
    "}\n",
    "do(greeting.window.console.log(structure))"
   ]
  },
  {
   "cell_type": "code",
   "execution_count": 16,
   "id": "e41efacf",
   "metadata": {},
   "outputs": [],
   "source": [
    "from H5Gizmos.python.gz_components import JS_COLLECTION_NAME_MAP"
   ]
  },
  {
   "cell_type": "code",
   "execution_count": 17,
   "id": "3aa09b09",
   "metadata": {},
   "outputs": [
    {
     "data": {
      "text/plain": [
       "{numpy.int8: 'Int8Array',\n",
       " numpy.uint8: 'Uint8Array',\n",
       " numpy.int16: 'Uint16Array',\n",
       " numpy.int32: 'Int32Array',\n",
       " numpy.uint32: 'Uint32Array',\n",
       " numpy.float32: 'Float32Array',\n",
       " numpy.float64: 'Float64Array',\n",
       " numpy.int64: 'BigInt64Array',\n",
       " numpy.uint64: 'BigUint64Array',\n",
       " dtype('int8'): 'Int8Array',\n",
       " dtype('uint8'): 'Uint8Array',\n",
       " dtype('int16'): 'Uint16Array',\n",
       " dtype('int32'): 'Int32Array',\n",
       " dtype('uint32'): 'Uint32Array',\n",
       " dtype('float32'): 'Float32Array',\n",
       " dtype('float64'): 'Float64Array',\n",
       " dtype('int64'): 'BigInt64Array',\n",
       " dtype('uint64'): 'BigUint64Array'}"
      ]
     },
     "execution_count": 17,
     "metadata": {},
     "output_type": "execute_result"
    }
   ],
   "source": [
    "JS_COLLECTION_NAME_MAP"
   ]
  },
  {
   "cell_type": "code",
   "execution_count": 18,
   "id": "94b9b599",
   "metadata": {},
   "outputs": [
    {
     "ename": "CantConvertValue",
     "evalue": "No conversion for: <class 'complex'>",
     "output_type": "error",
     "traceback": [
      "\u001b[0;31m---------------------------------------------------------------------------\u001b[0m",
      "\u001b[0;31mCantConvertValue\u001b[0m                          Traceback (most recent call last)",
      "\u001b[0;32m<ipython-input-18-d1a119046167>\u001b[0m in \u001b[0;36m<module>\u001b[0;34m\u001b[0m\n\u001b[1;32m      1\u001b[0m \u001b[0;32mimport\u001b[0m \u001b[0mnumpy\u001b[0m \u001b[0;32mas\u001b[0m \u001b[0mnp\u001b[0m\u001b[0;34m\u001b[0m\u001b[0;34m\u001b[0m\u001b[0m\n\u001b[1;32m      2\u001b[0m \u001b[0mC\u001b[0m \u001b[0;34m=\u001b[0m \u001b[0mnp\u001b[0m\u001b[0;34m.\u001b[0m\u001b[0mzeros\u001b[0m\u001b[0;34m(\u001b[0m\u001b[0;34m(\u001b[0m\u001b[0;36m3\u001b[0m\u001b[0;34m,\u001b[0m\u001b[0;34m)\u001b[0m\u001b[0;34m,\u001b[0m \u001b[0mdtype\u001b[0m\u001b[0;34m=\u001b[0m\u001b[0mnp\u001b[0m\u001b[0;34m.\u001b[0m\u001b[0mcomplex\u001b[0m\u001b[0;34m)\u001b[0m\u001b[0;34m\u001b[0m\u001b[0;34m\u001b[0m\u001b[0m\n\u001b[0;32m----> 3\u001b[0;31m \u001b[0mdo\u001b[0m\u001b[0;34m(\u001b[0m\u001b[0mgreeting\u001b[0m\u001b[0;34m.\u001b[0m\u001b[0mwindow\u001b[0m\u001b[0;34m.\u001b[0m\u001b[0mconsole\u001b[0m\u001b[0;34m.\u001b[0m\u001b[0mlog\u001b[0m\u001b[0;34m(\u001b[0m\u001b[0mC\u001b[0m\u001b[0;34m)\u001b[0m\u001b[0;34m)\u001b[0m\u001b[0;34m\u001b[0m\u001b[0;34m\u001b[0m\u001b[0m\n\u001b[0m",
      "\u001b[0;32m~/repos/H5Gizmos/H5Gizmos/python/H5Gizmos.py\u001b[0m in \u001b[0;36m__call__\u001b[0;34m(self, *args)\u001b[0m\n\u001b[1;32m    692\u001b[0m     \u001b[0;32mdef\u001b[0m \u001b[0m__call__\u001b[0m\u001b[0;34m(\u001b[0m\u001b[0mself\u001b[0m\u001b[0;34m,\u001b[0m \u001b[0;34m*\u001b[0m\u001b[0margs\u001b[0m\u001b[0;34m)\u001b[0m\u001b[0;34m:\u001b[0m\u001b[0;34m\u001b[0m\u001b[0;34m\u001b[0m\u001b[0m\n\u001b[1;32m    693\u001b[0m         \u001b[0mgz\u001b[0m \u001b[0;34m=\u001b[0m \u001b[0mself\u001b[0m\u001b[0;34m.\u001b[0m\u001b[0m_owner_gizmo\u001b[0m\u001b[0;34m\u001b[0m\u001b[0;34m\u001b[0m\u001b[0m\n\u001b[0;32m--> 694\u001b[0;31m         \u001b[0marg_commands\u001b[0m \u001b[0;34m=\u001b[0m \u001b[0;34m[\u001b[0m\u001b[0mValueConverter\u001b[0m\u001b[0;34m(\u001b[0m\u001b[0mx\u001b[0m\u001b[0;34m,\u001b[0m \u001b[0mgz\u001b[0m\u001b[0;34m)\u001b[0m \u001b[0;32mfor\u001b[0m \u001b[0mx\u001b[0m \u001b[0;32min\u001b[0m \u001b[0margs\u001b[0m\u001b[0;34m]\u001b[0m\u001b[0;34m\u001b[0m\u001b[0;34m\u001b[0m\u001b[0m\n\u001b[0m\u001b[1;32m    695\u001b[0m         \u001b[0;31m#pr(self, \"making gizmocall\", arg_commands)\u001b[0m\u001b[0;34m\u001b[0m\u001b[0;34m\u001b[0m\u001b[0;34m\u001b[0m\u001b[0m\n\u001b[1;32m    696\u001b[0m         \u001b[0;32mreturn\u001b[0m \u001b[0mGizmoCall\u001b[0m\u001b[0;34m(\u001b[0m\u001b[0mself\u001b[0m\u001b[0;34m,\u001b[0m \u001b[0marg_commands\u001b[0m\u001b[0;34m,\u001b[0m \u001b[0mgz\u001b[0m\u001b[0;34m)\u001b[0m\u001b[0;34m\u001b[0m\u001b[0;34m\u001b[0m\u001b[0m\n",
      "\u001b[0;32m~/repos/H5Gizmos/H5Gizmos/python/H5Gizmos.py\u001b[0m in \u001b[0;36m<listcomp>\u001b[0;34m(.0)\u001b[0m\n\u001b[1;32m    692\u001b[0m     \u001b[0;32mdef\u001b[0m \u001b[0m__call__\u001b[0m\u001b[0;34m(\u001b[0m\u001b[0mself\u001b[0m\u001b[0;34m,\u001b[0m \u001b[0;34m*\u001b[0m\u001b[0margs\u001b[0m\u001b[0;34m)\u001b[0m\u001b[0;34m:\u001b[0m\u001b[0;34m\u001b[0m\u001b[0;34m\u001b[0m\u001b[0m\n\u001b[1;32m    693\u001b[0m         \u001b[0mgz\u001b[0m \u001b[0;34m=\u001b[0m \u001b[0mself\u001b[0m\u001b[0;34m.\u001b[0m\u001b[0m_owner_gizmo\u001b[0m\u001b[0;34m\u001b[0m\u001b[0;34m\u001b[0m\u001b[0m\n\u001b[0;32m--> 694\u001b[0;31m         \u001b[0marg_commands\u001b[0m \u001b[0;34m=\u001b[0m \u001b[0;34m[\u001b[0m\u001b[0mValueConverter\u001b[0m\u001b[0;34m(\u001b[0m\u001b[0mx\u001b[0m\u001b[0;34m,\u001b[0m \u001b[0mgz\u001b[0m\u001b[0;34m)\u001b[0m \u001b[0;32mfor\u001b[0m \u001b[0mx\u001b[0m \u001b[0;32min\u001b[0m \u001b[0margs\u001b[0m\u001b[0;34m]\u001b[0m\u001b[0;34m\u001b[0m\u001b[0;34m\u001b[0m\u001b[0m\n\u001b[0m\u001b[1;32m    695\u001b[0m         \u001b[0;31m#pr(self, \"making gizmocall\", arg_commands)\u001b[0m\u001b[0;34m\u001b[0m\u001b[0;34m\u001b[0m\u001b[0;34m\u001b[0m\u001b[0m\n\u001b[1;32m    696\u001b[0m         \u001b[0;32mreturn\u001b[0m \u001b[0mGizmoCall\u001b[0m\u001b[0;34m(\u001b[0m\u001b[0mself\u001b[0m\u001b[0;34m,\u001b[0m \u001b[0marg_commands\u001b[0m\u001b[0;34m,\u001b[0m \u001b[0mgz\u001b[0m\u001b[0;34m)\u001b[0m\u001b[0;34m\u001b[0m\u001b[0;34m\u001b[0m\u001b[0m\n",
      "\u001b[0;32m~/repos/H5Gizmos/H5Gizmos/python/H5Gizmos.py\u001b[0m in \u001b[0;36m__init__\u001b[0;34m(self, value, owner)\u001b[0m\n\u001b[1;32m    939\u001b[0m             \u001b[0mconversions\u001b[0m \u001b[0;34m=\u001b[0m \u001b[0;34m[\u001b[0m\u001b[0;34m]\u001b[0m\u001b[0;34m\u001b[0m\u001b[0;34m\u001b[0m\u001b[0m\n\u001b[1;32m    940\u001b[0m             \u001b[0;32mfor\u001b[0m \u001b[0mx\u001b[0m \u001b[0;32min\u001b[0m \u001b[0mtranslation\u001b[0m\u001b[0;34m:\u001b[0m\u001b[0;34m\u001b[0m\u001b[0;34m\u001b[0m\u001b[0m\n\u001b[0;32m--> 941\u001b[0;31m                 \u001b[0mc\u001b[0m \u001b[0;34m=\u001b[0m \u001b[0mValueConverter\u001b[0m\u001b[0;34m(\u001b[0m\u001b[0mx\u001b[0m\u001b[0;34m,\u001b[0m\u001b[0mowner\u001b[0m\u001b[0;34m)\u001b[0m\u001b[0;34m\u001b[0m\u001b[0;34m\u001b[0m\u001b[0m\n\u001b[0m\u001b[1;32m    942\u001b[0m                 \u001b[0;32mif\u001b[0m \u001b[0;32mnot\u001b[0m \u001b[0mc\u001b[0m\u001b[0;34m.\u001b[0m\u001b[0mis_literal\u001b[0m\u001b[0;34m:\u001b[0m\u001b[0;34m\u001b[0m\u001b[0;34m\u001b[0m\u001b[0m\n\u001b[1;32m    943\u001b[0m                     \u001b[0mself\u001b[0m\u001b[0;34m.\u001b[0m\u001b[0mis_literal\u001b[0m \u001b[0;34m=\u001b[0m \u001b[0;32mFalse\u001b[0m\u001b[0;34m\u001b[0m\u001b[0;34m\u001b[0m\u001b[0m\n",
      "\u001b[0;32m~/repos/H5Gizmos/H5Gizmos/python/H5Gizmos.py\u001b[0m in \u001b[0;36m__init__\u001b[0;34m(self, value, owner)\u001b[0m\n\u001b[1;32m    976\u001b[0m             \u001b[0mself\u001b[0m\u001b[0;34m.\u001b[0m\u001b[0mcommand\u001b[0m \u001b[0;34m=\u001b[0m \u001b[0mGizmoCallback\u001b[0m\u001b[0;34m(\u001b[0m\u001b[0mtranslation\u001b[0m\u001b[0;34m,\u001b[0m \u001b[0mowner\u001b[0m\u001b[0;34m)\u001b[0m\u001b[0;34m\u001b[0m\u001b[0;34m\u001b[0m\u001b[0m\n\u001b[1;32m    977\u001b[0m         \u001b[0;32melse\u001b[0m\u001b[0;34m:\u001b[0m\u001b[0;34m\u001b[0m\u001b[0;34m\u001b[0m\u001b[0m\n\u001b[0;32m--> 978\u001b[0;31m             \u001b[0;32mraise\u001b[0m \u001b[0mCantConvertValue\u001b[0m\u001b[0;34m(\u001b[0m\u001b[0;34m\"No conversion for: \"\u001b[0m \u001b[0;34m+\u001b[0m \u001b[0mrepr\u001b[0m\u001b[0;34m(\u001b[0m\u001b[0mty\u001b[0m\u001b[0;34m)\u001b[0m\u001b[0;34m)\u001b[0m\u001b[0;34m\u001b[0m\u001b[0;34m\u001b[0m\u001b[0m\n\u001b[0m\u001b[1;32m    979\u001b[0m \u001b[0;34m\u001b[0m\u001b[0m\n\u001b[1;32m    980\u001b[0m     \u001b[0;32mdef\u001b[0m \u001b[0m_command\u001b[0m\u001b[0;34m(\u001b[0m\u001b[0mself\u001b[0m\u001b[0;34m,\u001b[0m \u001b[0mto_depth\u001b[0m\u001b[0;34m)\u001b[0m\u001b[0;34m:\u001b[0m\u001b[0;34m\u001b[0m\u001b[0;34m\u001b[0m\u001b[0m\n",
      "\u001b[0;31mCantConvertValue\u001b[0m: No conversion for: <class 'complex'>"
     ]
    }
   ],
   "source": [
    "import numpy as np\n",
    "C = np.zeros((3,), dtype=np.complex)\n",
    "do(greeting.window.console.log(C))"
   ]
  },
  {
   "cell_type": "code",
   "execution_count": 19,
   "id": "433cc8bf",
   "metadata": {},
   "outputs": [
    {
     "data": {
      "text/html": [
       "\n",
       "<script>\n",
       "(function () {\n",
       "    var identifier = \"Gizmo_1651257451592_19\";\n",
       "    window.addEventListener(\"message\", function(e) {\n",
       "        var this_frame = document.getElementById(identifier);\n",
       "        var margin = 10;\n",
       "        var min_height = 20;\n",
       "        if ((this_frame) && (this_frame.contentWindow === e.source)) {\n",
       "            //console.log(\"processing message\", e.data.height);\n",
       "            var height = Math.max(min_height, e.data.height + margin)\n",
       "            var height_px = (height) + \"px\";\n",
       "            this_frame.height = height_px;\n",
       "            this_frame.style.height = height_px;\n",
       "        }\n",
       "    });\n",
       "}) ();\n",
       "</script>\n",
       "\n",
       "<iframe id=\"Gizmo_1651257451592_19\"\n",
       "    title=\"Gizmo_1651257451592_19\"\n",
       "    width=\"100%\"\n",
       "    height=\"20px\"\n",
       "    src=\"http://127.0.0.1:8676/gizmo/http/MGR_1651257451592_20/index.html\"\n",
       "    allow=\"camera;microphone;display-capture;autoplay\"\n",
       "</iframe>"
      ],
      "text/plain": [
       "<IPython.core.display.HTML object>"
      ]
     },
     "metadata": {},
     "output_type": "display_data"
    }
   ],
   "source": [
    "from H5Gizmos import Html, name, get\n",
    "greeting = Html(\"<h4>Hello</h4>\")\n",
    "await greeting.show()\n",
    "\n",
    "greeting.js_init(\"\"\"\n",
    "\n",
    "    element.send_value = function() {\n",
    "        return {\n",
    "            \"null\": null,\n",
    "            \"number\": 3.1,\n",
    "            \"string\": \"Bohemian Rhapsody\",\n",
    "            \"bool\": false,\n",
    "            \"dictionary\": {\"lie\": \"falsehood\"},\n",
    "            \"list\": [1,2,\"three\"],\n",
    "            \"Uint8Array\": new Uint8Array([0, 5, 211, 6]),\n",
    "            \"callable\": element.send_value,\n",
    "        }\n",
    "    };\n",
    "\"\"\")"
   ]
  },
  {
   "cell_type": "code",
   "execution_count": 20,
   "id": "04562e8d",
   "metadata": {},
   "outputs": [
    {
     "data": {
      "text/plain": [
       "{'null': None,\n",
       " 'number': 3.1,\n",
       " 'string': 'Bohemian Rhapsody',\n",
       " 'bool': False,\n",
       " 'dictionary': {'lie': 'falsehood'},\n",
       " 'list': [1, 2, 'three'],\n",
       " 'Uint8Array': '0005d306',\n",
       " 'callable': {}}"
      ]
     },
     "execution_count": 20,
     "metadata": {},
     "output_type": "execute_result"
    }
   ],
   "source": [
    "js_value = await get(greeting.element.send_value())\n",
    "js_value"
   ]
  },
  {
   "cell_type": "code",
   "execution_count": 21,
   "id": "5671a13d",
   "metadata": {},
   "outputs": [],
   "source": [
    "greeting.js_init(\"\"\"\n",
    "    var loop = {};\n",
    "    loop.name = \"loop\";\n",
    "    loop.reference = loop;\n",
    "    element.loop = loop;\n",
    "\"\"\")"
   ]
  },
  {
   "cell_type": "code",
   "execution_count": 22,
   "id": "feb85b07",
   "metadata": {},
   "outputs": [
    {
     "data": {
      "text/plain": [
       "{'name': 'loop', 'reference': {'name': 'loop', 'reference': None}}"
      ]
     },
     "execution_count": 22,
     "metadata": {},
     "output_type": "execute_result"
    }
   ],
   "source": [
    "await get(greeting.element.loop, to_depth=2)"
   ]
  },
  {
   "cell_type": "code",
   "execution_count": 23,
   "id": "3114a46c",
   "metadata": {},
   "outputs": [
    {
     "data": {
      "text/plain": [
       "{'name': 'loop',\n",
       " 'reference': {'name': 'loop',\n",
       "  'reference': {'name': 'loop',\n",
       "   'reference': {'name': 'loop', 'reference': None}}}}"
      ]
     },
     "execution_count": 23,
     "metadata": {},
     "output_type": "execute_result"
    }
   ],
   "source": [
    "await get(greeting.element.loop, to_depth=4)"
   ]
  },
  {
   "cell_type": "code",
   "execution_count": 24,
   "id": "f9e79008",
   "metadata": {},
   "outputs": [
    {
     "name": "stdout",
     "output_type": "stream",
     "text": [
      "36325\n"
     ]
    }
   ],
   "source": [
    "w = await get(greeting.window, to_depth=2)\n",
    "print(len(repr(w)))"
   ]
  },
  {
   "cell_type": "code",
   "execution_count": 25,
   "id": "58ed3f8f",
   "metadata": {},
   "outputs": [
    {
     "data": {
      "text/html": [
       "\n",
       "<script>\n",
       "(function () {\n",
       "    var identifier = \"Gizmo_1651257611702_22\";\n",
       "    window.addEventListener(\"message\", function(e) {\n",
       "        var this_frame = document.getElementById(identifier);\n",
       "        var margin = 10;\n",
       "        var min_height = 20;\n",
       "        if ((this_frame) && (this_frame.contentWindow === e.source)) {\n",
       "            //console.log(\"processing message\", e.data.height);\n",
       "            var height = Math.max(min_height, e.data.height + margin)\n",
       "            var height_px = (height) + \"px\";\n",
       "            this_frame.height = height_px;\n",
       "            this_frame.style.height = height_px;\n",
       "        }\n",
       "    });\n",
       "}) ();\n",
       "</script>\n",
       "\n",
       "<iframe id=\"Gizmo_1651257611702_22\"\n",
       "    title=\"Gizmo_1651257611702_22\"\n",
       "    width=\"100%\"\n",
       "    height=\"20px\"\n",
       "    src=\"http://127.0.0.1:8676/gizmo/http/MGR_1651257611702_23/index.html\"\n",
       "    allow=\"camera;microphone;display-capture;autoplay\"\n",
       "</iframe>"
      ],
      "text/plain": [
       "<IPython.core.display.HTML object>"
      ]
     },
     "metadata": {},
     "output_type": "display_data"
    }
   ],
   "source": [
    "from H5Gizmos import Html, name, get\n",
    "greeting = Html(\"<h4>Hello</h4>\")\n",
    "await greeting.show()\n",
    "\n",
    "greeting.js_init(\"\"\"\n",
    "\n",
    "    element.resolves_in_10_seconds = function() {\n",
    "        var result = new H5Gizmos.DeferredValue();\n",
    "        // Resolve the value to 42 after waiting 10 seconds.\n",
    "        setTimeout( (function() { result.resolve(42);}), 10 * 1000 );\n",
    "        return result;\n",
    "    };\n",
    "\n",
    "\"\"\")"
   ]
  },
  {
   "cell_type": "code",
   "execution_count": 26,
   "id": "904caba8",
   "metadata": {},
   "outputs": [
    {
     "data": {
      "text/plain": [
       "42"
      ]
     },
     "execution_count": 26,
     "metadata": {},
     "output_type": "execute_result"
    }
   ],
   "source": [
    "await get(greeting.element.resolves_in_10_seconds(), timeout=13)"
   ]
  },
  {
   "cell_type": "code",
   "execution_count": 27,
   "id": "f47b1540",
   "metadata": {},
   "outputs": [
    {
     "ename": "FutureTimeout",
     "evalue": "Timeout expired: 5",
     "output_type": "error",
     "traceback": [
      "\u001b[0;31m---------------------------------------------------------------------------\u001b[0m",
      "\u001b[0;31mFutureTimeout\u001b[0m                             Traceback (most recent call last)",
      "\u001b[0;32m<ipython-input-27-6086988edda4>\u001b[0m in \u001b[0;36masync-def-wrapper\u001b[0;34m()\u001b[0m\n",
      "\u001b[0;32m~/repos/H5Gizmos/H5Gizmos/python/H5Gizmos.py\u001b[0m in \u001b[0;36mget\u001b[0;34m(link_action, to_depth, timeout)\u001b[0m\n\u001b[1;32m     37\u001b[0m     \u001b[0;34m\"Run the link in javascript and return the result.\"\u001b[0m\u001b[0;34m\u001b[0m\u001b[0;34m\u001b[0m\u001b[0m\n\u001b[1;32m     38\u001b[0m     \u001b[0;31m# command style convenience convenience accessor\u001b[0m\u001b[0;34m\u001b[0m\u001b[0;34m\u001b[0m\u001b[0;34m\u001b[0m\u001b[0m\n\u001b[0;32m---> 39\u001b[0;31m     \u001b[0;32mreturn\u001b[0m \u001b[0mawait\u001b[0m \u001b[0mlink_action\u001b[0m\u001b[0;34m.\u001b[0m\u001b[0m_get\u001b[0m\u001b[0;34m(\u001b[0m\u001b[0mto_depth\u001b[0m\u001b[0;34m=\u001b[0m\u001b[0mto_depth\u001b[0m\u001b[0;34m,\u001b[0m \u001b[0mtimeout\u001b[0m\u001b[0;34m=\u001b[0m\u001b[0mtimeout\u001b[0m\u001b[0;34m)\u001b[0m\u001b[0;34m\u001b[0m\u001b[0;34m\u001b[0m\u001b[0m\n\u001b[0m\u001b[1;32m     40\u001b[0m \u001b[0;34m\u001b[0m\u001b[0m\n\u001b[1;32m     41\u001b[0m \u001b[0;32mdef\u001b[0m \u001b[0mname\u001b[0m\u001b[0;34m(\u001b[0m\u001b[0mid\u001b[0m\u001b[0;34m,\u001b[0m \u001b[0mlink_action\u001b[0m\u001b[0;34m,\u001b[0m \u001b[0mto_depth\u001b[0m\u001b[0;34m=\u001b[0m\u001b[0;32mNone\u001b[0m\u001b[0;34m)\u001b[0m\u001b[0;34m:\u001b[0m\u001b[0;34m\u001b[0m\u001b[0;34m\u001b[0m\u001b[0m\n",
      "\u001b[0;32m~/repos/H5Gizmos/H5Gizmos/python/H5Gizmos.py\u001b[0m in \u001b[0;36m_get\u001b[0;34m(self, to_depth, timeout, oid, future, test_result)\u001b[0m\n\u001b[1;32m    661\u001b[0m         \u001b[0;32mif\u001b[0m \u001b[0mtest_result\u001b[0m \u001b[0;32mis\u001b[0m \u001b[0;32mnot\u001b[0m \u001b[0;32mNone\u001b[0m\u001b[0;34m:\u001b[0m\u001b[0;34m\u001b[0m\u001b[0;34m\u001b[0m\u001b[0m\n\u001b[1;32m    662\u001b[0m             \u001b[0;32mreturn\u001b[0m \u001b[0mtest_result\u001b[0m  \u001b[0;31m# only for code coverage...\u001b[0m\u001b[0;34m\u001b[0m\u001b[0;34m\u001b[0m\u001b[0m\n\u001b[0;32m--> 663\u001b[0;31m         \u001b[0mawait\u001b[0m \u001b[0mfuture\u001b[0m\u001b[0;34m\u001b[0m\u001b[0;34m\u001b[0m\u001b[0m\n\u001b[0m\u001b[1;32m    664\u001b[0m         \u001b[0mself\u001b[0m\u001b[0;34m.\u001b[0m\u001b[0m_get_oid\u001b[0m \u001b[0;34m=\u001b[0m \u001b[0;32mNone\u001b[0m\u001b[0;34m\u001b[0m\u001b[0;34m\u001b[0m\u001b[0m\n\u001b[1;32m    665\u001b[0m         \u001b[0mself\u001b[0m\u001b[0;34m.\u001b[0m\u001b[0m_get_future\u001b[0m \u001b[0;34m=\u001b[0m \u001b[0;32mNone\u001b[0m\u001b[0;34m\u001b[0m\u001b[0;34m\u001b[0m\u001b[0m\n",
      "\u001b[0;31mFutureTimeout\u001b[0m: Timeout expired: 5"
     ]
    }
   ],
   "source": [
    "await get(greeting.element.resolves_in_10_seconds(), timeout=5)"
   ]
  },
  {
   "cell_type": "code",
   "execution_count": 28,
   "id": "1dd9375a",
   "metadata": {},
   "outputs": [
    {
     "data": {
      "text/html": [
       "\n",
       "<script>\n",
       "(function () {\n",
       "    var identifier = \"Gizmo_1651257672805_25\";\n",
       "    window.addEventListener(\"message\", function(e) {\n",
       "        var this_frame = document.getElementById(identifier);\n",
       "        var margin = 10;\n",
       "        var min_height = 20;\n",
       "        if ((this_frame) && (this_frame.contentWindow === e.source)) {\n",
       "            //console.log(\"processing message\", e.data.height);\n",
       "            var height = Math.max(min_height, e.data.height + margin)\n",
       "            var height_px = (height) + \"px\";\n",
       "            this_frame.height = height_px;\n",
       "            this_frame.style.height = height_px;\n",
       "        }\n",
       "    });\n",
       "}) ();\n",
       "</script>\n",
       "\n",
       "<iframe id=\"Gizmo_1651257672805_25\"\n",
       "    title=\"Gizmo_1651257672805_25\"\n",
       "    width=\"100%\"\n",
       "    height=\"20px\"\n",
       "    src=\"http://127.0.0.1:8676/gizmo/http/MGR_1651257672806_26/index.html\"\n",
       "    allow=\"camera;microphone;display-capture;autoplay\"\n",
       "</iframe>"
      ],
      "text/plain": [
       "<IPython.core.display.HTML object>"
      ]
     },
     "metadata": {},
     "output_type": "display_data"
    }
   ],
   "source": [
    "from H5Gizmos import Html, get\n",
    "greeting = Html(\"<h1>Hello</h1>\")\n",
    "await greeting.show()\n",
    "txt = greeting.add(\"Welcome!\")\n",
    "\n",
    "properties = \"font-style font-weight font-family font-size\".split()\n",
    "\n",
    "greeting.js_init(\n",
    "    \"\"\"\n",
    "        element.get_font_properties = function(jquery_target) {\n",
    "        debugger;\n",
    "            jquery_target = jquery_target || element;\n",
    "            var style = window.getComputedStyle(jquery_target[0]);\n",
    "            result = {};\n",
    "            for (var i=0; i<properties.length; i++) {\n",
    "                var prop = properties[i];\n",
    "                result[prop] = style[prop];\n",
    "            }\n",
    "            return result\n",
    "        }\n",
    "    \"\"\", \n",
    "    properties=properties)"
   ]
  },
  {
   "cell_type": "code",
   "execution_count": 29,
   "id": "4d44d338",
   "metadata": {},
   "outputs": [
    {
     "data": {
      "text/plain": [
       "{'font-style': 'normal',\n",
       " 'font-weight': '700',\n",
       " 'font-family': 'Verdana, Arial, Helvetica, sans-serif',\n",
       " 'font-size': '32px'}"
      ]
     },
     "execution_count": 29,
     "metadata": {},
     "output_type": "execute_result"
    }
   ],
   "source": [
    "await get(greeting.element.get_font_properties())"
   ]
  },
  {
   "cell_type": "code",
   "execution_count": 30,
   "id": "542bd54f",
   "metadata": {},
   "outputs": [
    {
     "data": {
      "text/plain": [
       "{'font-style': 'normal',\n",
       " 'font-weight': '400',\n",
       " 'font-family': 'Verdana, Arial, Helvetica, sans-serif',\n",
       " 'font-size': '16px'}"
      ]
     },
     "execution_count": 30,
     "metadata": {},
     "output_type": "execute_result"
    }
   ],
   "source": [
    "await get(greeting.element.get_font_properties(txt.element))"
   ]
  },
  {
   "cell_type": "code",
   "execution_count": 31,
   "id": "2b6d47c3",
   "metadata": {},
   "outputs": [
    {
     "data": {
      "text/html": [
       "\n",
       "<script>\n",
       "(function () {\n",
       "    var identifier = \"Gizmo_1651257816261_29\";\n",
       "    window.addEventListener(\"message\", function(e) {\n",
       "        var this_frame = document.getElementById(identifier);\n",
       "        var margin = 10;\n",
       "        var min_height = 20;\n",
       "        if ((this_frame) && (this_frame.contentWindow === e.source)) {\n",
       "            //console.log(\"processing message\", e.data.height);\n",
       "            var height = Math.max(min_height, e.data.height + margin)\n",
       "            var height_px = (height) + \"px\";\n",
       "            this_frame.height = height_px;\n",
       "            this_frame.style.height = height_px;\n",
       "        }\n",
       "    });\n",
       "}) ();\n",
       "</script>\n",
       "\n",
       "<iframe id=\"Gizmo_1651257816261_29\"\n",
       "    title=\"Gizmo_1651257816261_29\"\n",
       "    width=\"100%\"\n",
       "    height=\"20px\"\n",
       "    src=\"http://127.0.0.1:8676/gizmo/http/MGR_1651257816261_30/index.html\"\n",
       "    allow=\"camera;microphone;display-capture;autoplay\"\n",
       "</iframe>"
      ],
      "text/plain": [
       "<IPython.core.display.HTML object>"
      ]
     },
     "metadata": {},
     "output_type": "display_data"
    }
   ],
   "source": [
    "from H5Gizmos import Html, do\n",
    "greeting = Html(\"<h1>Hello</h1>\")\n",
    "await greeting.show()\n",
    "\n",
    "window = greeting.window\n",
    "new_uint = greeting.new(window.Uint8Array, [45, 254, 12, 9])\n",
    "do(window.console.log(new_uint))"
   ]
  },
  {
   "cell_type": "code",
   "execution_count": 32,
   "id": "13b14e94",
   "metadata": {},
   "outputs": [],
   "source": [
    "greeting.js_debug()"
   ]
  },
  {
   "cell_type": "code",
   "execution_count": 33,
   "id": "0e162582",
   "metadata": {},
   "outputs": [
    {
     "data": {
      "text/html": [
       "\n",
       "<script>\n",
       "(function () {\n",
       "    var identifier = \"Gizmo_1651257899558_32\";\n",
       "    window.addEventListener(\"message\", function(e) {\n",
       "        var this_frame = document.getElementById(identifier);\n",
       "        var margin = 10;\n",
       "        var min_height = 20;\n",
       "        if ((this_frame) && (this_frame.contentWindow === e.source)) {\n",
       "            //console.log(\"processing message\", e.data.height);\n",
       "            var height = Math.max(min_height, e.data.height + margin)\n",
       "            var height_px = (height) + \"px\";\n",
       "            this_frame.height = height_px;\n",
       "            this_frame.style.height = height_px;\n",
       "        }\n",
       "    });\n",
       "}) ();\n",
       "</script>\n",
       "\n",
       "<iframe id=\"Gizmo_1651257899558_32\"\n",
       "    title=\"Gizmo_1651257899558_32\"\n",
       "    width=\"100%\"\n",
       "    height=\"20px\"\n",
       "    src=\"http://127.0.0.1:8676/gizmo/http/MGR_1651257899558_33/index.html\"\n",
       "    allow=\"camera;microphone;display-capture;autoplay\"\n",
       "</iframe>"
      ],
      "text/plain": [
       "<IPython.core.display.HTML object>"
      ]
     },
     "metadata": {},
     "output_type": "display_data"
    }
   ],
   "source": [
    "from H5Gizmos import Html, get\n",
    "greeting = Html(\"<h1>Hello</h1>\")\n",
    "await greeting.show()\n",
    "\n",
    "import numpy as np\n",
    "A = np.sin(0.01 * np.arange(1000))\n",
    "reference = greeting.cache(\"Sines\", A)\n",
    "do(greeting.window.console.log(reference))"
   ]
  },
  {
   "cell_type": "code",
   "execution_count": 34,
   "id": "9d6cdd19",
   "metadata": {},
   "outputs": [
    {
     "data": {
      "text/plain": [
       "0.02999550020249566"
      ]
     },
     "execution_count": 34,
     "metadata": {},
     "output_type": "execute_result"
    }
   ],
   "source": [
    "link = greeting.my(\"Sines\")\n",
    "await get(link[3])"
   ]
  },
  {
   "cell_type": "code",
   "execution_count": 35,
   "id": "e14c985a",
   "metadata": {},
   "outputs": [
    {
     "name": "stdout",
     "output_type": "stream",
     "text": [
      "None\n"
     ]
    }
   ],
   "source": [
    "greeting.uncache(\"Sines\")\n",
    "print(await get(greeting.my(\"Sines\")))"
   ]
  },
  {
   "cell_type": "code",
   "execution_count": 36,
   "id": "c17a1b9e",
   "metadata": {},
   "outputs": [
    {
     "data": {
      "text/html": [
       "\n",
       "<script>\n",
       "(function () {\n",
       "    var identifier = \"Gizmo_1651257969480_35\";\n",
       "    window.addEventListener(\"message\", function(e) {\n",
       "        var this_frame = document.getElementById(identifier);\n",
       "        var margin = 10;\n",
       "        var min_height = 20;\n",
       "        if ((this_frame) && (this_frame.contentWindow === e.source)) {\n",
       "            //console.log(\"processing message\", e.data.height);\n",
       "            var height = Math.max(min_height, e.data.height + margin)\n",
       "            var height_px = (height) + \"px\";\n",
       "            this_frame.height = height_px;\n",
       "            this_frame.style.height = height_px;\n",
       "        }\n",
       "    });\n",
       "}) ();\n",
       "</script>\n",
       "\n",
       "<iframe id=\"Gizmo_1651257969480_35\"\n",
       "    title=\"Gizmo_1651257969480_35\"\n",
       "    width=\"100%\"\n",
       "    height=\"20px\"\n",
       "    src=\"http://127.0.0.1:8676/gizmo/http/MGR_1651257969480_36/index.html\"\n",
       "    allow=\"camera;microphone;display-capture;autoplay\"\n",
       "</iframe>"
      ],
      "text/plain": [
       "<IPython.core.display.HTML object>"
      ]
     },
     "metadata": {},
     "output_type": "display_data"
    },
    {
     "name": "stdout",
     "output_type": "stream",
     "text": [
      "string value Bohemian Rhapsody\n"
     ]
    }
   ],
   "source": [
    "json_structure = {\n",
    "    \"none\": None,\n",
    "    \"number\": 3.1,\n",
    "    \"string\": \"Bohemian Rhapsody\",\n",
    "    \"bool\": False,\n",
    "    \"dictionary\": {\"lie\": \"falsehood\"},\n",
    "    \"list\": [1,2,\"three\"],\n",
    "}\n",
    "\n",
    "from H5Gizmos import Html, do, get\n",
    "greeting = Html(\"<h1>Hello</h1>\")\n",
    "await greeting.show()\n",
    "\n",
    "reference = await greeting.store_json(json_structure, \"my_data\")\n",
    "\n",
    "print(\"string value\", await get(reference[\"string\"]))"
   ]
  },
  {
   "cell_type": "code",
   "execution_count": 37,
   "id": "05d9a470",
   "metadata": {},
   "outputs": [
    {
     "data": {
      "text/html": [
       "\n",
       "<script>\n",
       "(function () {\n",
       "    var identifier = \"Gizmo_1651258004058_39\";\n",
       "    window.addEventListener(\"message\", function(e) {\n",
       "        var this_frame = document.getElementById(identifier);\n",
       "        var margin = 10;\n",
       "        var min_height = 20;\n",
       "        if ((this_frame) && (this_frame.contentWindow === e.source)) {\n",
       "            //console.log(\"processing message\", e.data.height);\n",
       "            var height = Math.max(min_height, e.data.height + margin)\n",
       "            var height_px = (height) + \"px\";\n",
       "            this_frame.height = height_px;\n",
       "            this_frame.style.height = height_px;\n",
       "        }\n",
       "    });\n",
       "}) ();\n",
       "</script>\n",
       "\n",
       "<iframe id=\"Gizmo_1651258004058_39\"\n",
       "    title=\"Gizmo_1651258004058_39\"\n",
       "    width=\"100%\"\n",
       "    height=\"20px\"\n",
       "    src=\"http://127.0.0.1:8676/gizmo/http/MGR_1651258004058_40/index.html\"\n",
       "    allow=\"camera;microphone;display-capture;autoplay\"\n",
       "</iframe>"
      ],
      "text/plain": [
       "<IPython.core.display.HTML object>"
      ]
     },
     "metadata": {},
     "output_type": "display_data"
    }
   ],
   "source": [
    "import numpy as np\n",
    "\n",
    "A = (np.arange(1000) % 13 - 5).astype(np.float32)\n",
    "\n",
    "from H5Gizmos import Html, do, get\n",
    "greeting = Html(\"<h1>Hello</h1>\")\n",
    "await greeting.show()\n",
    "\n",
    "reference = await greeting.store_array(A, \"my_array\")\n",
    "do(greeting.window.console.log(reference))"
   ]
  },
  {
   "cell_type": "code",
   "execution_count": 38,
   "id": "310b7322",
   "metadata": {},
   "outputs": [
    {
     "data": {
      "text/plain": [
       "0.0"
      ]
     },
     "execution_count": 38,
     "metadata": {},
     "output_type": "execute_result"
    }
   ],
   "source": [
    "B = await greeting.get_array_from_buffer(reference, dtype=np.float32)\n",
    "np.abs(A - B).max()"
   ]
  },
  {
   "cell_type": "code",
   "execution_count": 39,
   "id": "38f40352",
   "metadata": {},
   "outputs": [
    {
     "data": {
      "text/plain": [
       "(1000,)"
      ]
     },
     "execution_count": 39,
     "metadata": {},
     "output_type": "execute_result"
    }
   ],
   "source": [
    "B.shape"
   ]
  },
  {
   "cell_type": "code",
   "execution_count": null,
   "id": "056661eb",
   "metadata": {},
   "outputs": [],
   "source": []
  }
 ],
 "metadata": {
  "kernelspec": {
   "display_name": "Python 3",
   "language": "python",
   "name": "python3"
  },
  "language_info": {
   "codemirror_mode": {
    "name": "ipython",
    "version": 3
   },
   "file_extension": ".py",
   "mimetype": "text/x-python",
   "name": "python",
   "nbconvert_exporter": "python",
   "pygments_lexer": "ipython3",
   "version": "3.6.8"
  }
 },
 "nbformat": 4,
 "nbformat_minor": 5
}
