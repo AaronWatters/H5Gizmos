{
 "cells": [
  {
   "cell_type": "code",
   "execution_count": 21,
   "id": "f622f62b",
   "metadata": {},
   "outputs": [
    {
     "data": {
      "text/html": [
       "\n",
       "<script>\n",
       "(function () {\n",
       "    var identifier = \"Gizmo_1651080929047_10\";\n",
       "    window.addEventListener(\"message\", function(e) {\n",
       "        var this_frame = document.getElementById(identifier);\n",
       "        var margin = 10;\n",
       "        var min_height = 20;\n",
       "        if ((this_frame) && (this_frame.contentWindow === e.source)) {\n",
       "            //console.log(\"processing message\", e.data.height);\n",
       "            var height = Math.max(min_height, e.data.height + margin)\n",
       "            var height_px = (height) + \"px\";\n",
       "            this_frame.height = height_px;\n",
       "            this_frame.style.height = height_px;\n",
       "        }\n",
       "    });\n",
       "}) ();\n",
       "</script>\n",
       "\n",
       "<iframe id=\"Gizmo_1651080929047_10\"\n",
       "    title=\"Gizmo_1651080929047_10\"\n",
       "    width=\"100%\"\n",
       "    height=\"20px\"\n",
       "    src=\"http://192.168.1.173:8675/gizmo/http/MGR_1651080929047_11/index.html\"\n",
       "    allow=\"camera;microphone;display-capture;autoplay\"\n",
       "</iframe>"
      ],
      "text/plain": [
       "<IPython.core.display.HTML object>"
      ]
     },
     "metadata": {},
     "output_type": "display_data"
    }
   ],
   "source": [
    "from H5Gizmos import Html, get, do\n",
    "greeting = Html(\"<div><p>Paragraph 1</p> <p>Paragraph 2</p><div>\")\n",
    "await greeting.show()"
   ]
  },
  {
   "cell_type": "code",
   "execution_count": 15,
   "id": "bc915e8c",
   "metadata": {},
   "outputs": [
    {
     "data": {
      "text/plain": [
       "_CACHE_['jQueryComponent_1651080401924_9'][V(L('element'))]"
      ]
     },
     "execution_count": 15,
     "metadata": {},
     "output_type": "execute_result"
    }
   ],
   "source": [
    "greeting.element"
   ]
  },
  {
   "cell_type": "code",
   "execution_count": 10,
   "id": "b80b4efa",
   "metadata": {},
   "outputs": [
    {
     "data": {
      "text/plain": [
       "_CACHE_['jQueryComponent_1651080401924_9'][V(L('element'))][V(L('children'))]()[V(L('length'))]"
      ]
     },
     "execution_count": 10,
     "metadata": {},
     "output_type": "execute_result"
    }
   ],
   "source": [
    "greeting.element.children().length"
   ]
  },
  {
   "cell_type": "code",
   "execution_count": 11,
   "id": "7361e247",
   "metadata": {},
   "outputs": [
    {
     "data": {
      "text/plain": [
       "3"
      ]
     },
     "execution_count": 11,
     "metadata": {},
     "output_type": "execute_result"
    }
   ],
   "source": [
    "await get(greeting.element.children().length)"
   ]
  },
  {
   "cell_type": "code",
   "execution_count": 14,
   "id": "a1b9b9fa",
   "metadata": {},
   "outputs": [
    {
     "data": {
      "text/plain": [
       "'Paragraph 1'"
      ]
     },
     "execution_count": 14,
     "metadata": {},
     "output_type": "execute_result"
    }
   ],
   "source": [
    "await get(greeting.element.children()[0].innerText)"
   ]
  },
  {
   "cell_type": "code",
   "execution_count": 16,
   "id": "ce6de8eb",
   "metadata": {},
   "outputs": [
    {
     "data": {
      "text/plain": [
       "'Google Inc.'"
      ]
     },
     "execution_count": 16,
     "metadata": {},
     "output_type": "execute_result"
    }
   ],
   "source": [
    "await get(greeting.window.clientInformation.vendor)"
   ]
  },
  {
   "cell_type": "code",
   "execution_count": 18,
   "id": "34e3d257",
   "metadata": {},
   "outputs": [
    {
     "data": {
      "text/plain": [
       "'192.168.1.173'"
      ]
     },
     "execution_count": 18,
     "metadata": {},
     "output_type": "execute_result"
    }
   ],
   "source": [
    "await get(greeting.document.location.hostname)"
   ]
  },
  {
   "cell_type": "code",
   "execution_count": 20,
   "id": "d18f9d2c",
   "metadata": {},
   "outputs": [
    {
     "data": {
      "text/plain": [
       "'3.1.1'"
      ]
     },
     "execution_count": 20,
     "metadata": {},
     "output_type": "execute_result"
    }
   ],
   "source": [
    "await get(greeting.jQuery().jquery)"
   ]
  },
  {
   "cell_type": "code",
   "execution_count": 44,
   "id": "2ccaf15f",
   "metadata": {},
   "outputs": [
    {
     "data": {
      "text/html": [
       "\n",
       "<script>\n",
       "(function () {\n",
       "    var identifier = \"Gizmo_1651092534226_16\";\n",
       "    window.addEventListener(\"message\", function(e) {\n",
       "        var this_frame = document.getElementById(identifier);\n",
       "        var margin = 10;\n",
       "        var min_height = 20;\n",
       "        if ((this_frame) && (this_frame.contentWindow === e.source)) {\n",
       "            //console.log(\"processing message\", e.data.height);\n",
       "            var height = Math.max(min_height, e.data.height + margin)\n",
       "            var height_px = (height) + \"px\";\n",
       "            this_frame.height = height_px;\n",
       "            this_frame.style.height = height_px;\n",
       "        }\n",
       "    });\n",
       "}) ();\n",
       "</script>\n",
       "\n",
       "<iframe id=\"Gizmo_1651092534226_16\"\n",
       "    title=\"Gizmo_1651092534226_16\"\n",
       "    width=\"100%\"\n",
       "    height=\"20px\"\n",
       "    src=\"http://192.168.1.173:8675/gizmo/http/MGR_1651092534226_17/index.html\"\n",
       "    allow=\"camera;microphone;display-capture;autoplay\"\n",
       "</iframe>"
      ],
      "text/plain": [
       "<IPython.core.display.HTML object>"
      ]
     },
     "metadata": {},
     "output_type": "display_data"
    }
   ],
   "source": [
    "from H5Gizmos import Html, do\n",
    "\n",
    "div = Html(\"<div>The increment function</div>\")\n",
    "await div.show()\n",
    "do(div.jQuery(\"<pre>lambda(x): x+1</pre>\").appendTo(div.element))"
   ]
  },
  {
   "cell_type": "code",
   "execution_count": 49,
   "id": "5a3f527d",
   "metadata": {},
   "outputs": [
    {
     "data": {
      "text/html": [
       "\n",
       "<script>\n",
       "(function () {\n",
       "    var identifier = \"Gizmo_1651093590390_22\";\n",
       "    window.addEventListener(\"message\", function(e) {\n",
       "        var this_frame = document.getElementById(identifier);\n",
       "        var margin = 10;\n",
       "        var min_height = 20;\n",
       "        if ((this_frame) && (this_frame.contentWindow === e.source)) {\n",
       "            //console.log(\"processing message\", e.data.height);\n",
       "            var height = Math.max(min_height, e.data.height + margin)\n",
       "            var height_px = (height) + \"px\";\n",
       "            this_frame.height = height_px;\n",
       "            this_frame.style.height = height_px;\n",
       "        }\n",
       "    });\n",
       "}) ();\n",
       "</script>\n",
       "\n",
       "<iframe id=\"Gizmo_1651093590390_22\"\n",
       "    title=\"Gizmo_1651093590390_22\"\n",
       "    width=\"100%\"\n",
       "    height=\"20px\"\n",
       "    src=\"http://192.168.1.173:8675/gizmo/http/MGR_1651093590390_23/index.html\"\n",
       "    allow=\"camera;microphone;display-capture;autoplay\"\n",
       "</iframe>"
      ],
      "text/plain": [
       "<IPython.core.display.HTML object>"
      ]
     },
     "metadata": {},
     "output_type": "display_data"
    }
   ],
   "source": [
    "import numpy as np\n",
    "from H5Gizmos import Html\n",
    "\n",
    "greeting = Html(\"<h3>Hello</h3>\")\n",
    "await greeting.show()\n",
    "\n",
    "def callable_example(*arguments):\n",
    "    print(\"callback called with arguments: \", arguments)\n",
    "\n",
    "structure = {\n",
    "    \"none\": None,\n",
    "    \"number\": 3.1,\n",
    "    \"string\": \"Bohemian Rhapsody\",\n",
    "    \"bool\": False,\n",
    "    \"dictionary\": {\"lie\": \"falsehood\"},\n",
    "    \"list\": [1,2,\"three\"],\n",
    "    \"bytearray\": bytearray([0,5,211,6]),\n",
    "    \"callable\": callable_example,\n",
    "    \"1d numeric array\": np.arange(10),\n",
    "    \"2d numeric array\": np.arange(10).reshape(2,5),\n",
    "}\n",
    "do(greeting.window.console.log(structure))"
   ]
  },
  {
   "cell_type": "code",
   "execution_count": 30,
   "id": "25e865ce",
   "metadata": {},
   "outputs": [],
   "source": [
    "from H5Gizmos.python.gz_components import JS_COLLECTION_NAME_MAP"
   ]
  },
  {
   "cell_type": "code",
   "execution_count": 31,
   "id": "9aa47169",
   "metadata": {},
   "outputs": [
    {
     "data": {
      "text/plain": [
       "{numpy.int8: 'Int8Array',\n",
       " numpy.uint8: 'Uint8Array',\n",
       " numpy.int16: 'Uint16Array',\n",
       " numpy.int32: 'Int32Array',\n",
       " numpy.uint32: 'Uint32Array',\n",
       " numpy.float32: 'Float32Array',\n",
       " numpy.float64: 'Float64Array',\n",
       " numpy.int64: 'BigInt64Array',\n",
       " numpy.uint64: 'BigUint64Array',\n",
       " dtype('int8'): 'Int8Array',\n",
       " dtype('uint8'): 'Uint8Array',\n",
       " dtype('int16'): 'Uint16Array',\n",
       " dtype('int32'): 'Int32Array',\n",
       " dtype('uint32'): 'Uint32Array',\n",
       " dtype('float32'): 'Float32Array',\n",
       " dtype('float64'): 'Float64Array',\n",
       " dtype('int64'): 'BigInt64Array',\n",
       " dtype('uint64'): 'BigUint64Array'}"
      ]
     },
     "execution_count": 31,
     "metadata": {},
     "output_type": "execute_result"
    }
   ],
   "source": [
    "JS_COLLECTION_NAME_MAP"
   ]
  },
  {
   "cell_type": "code",
   "execution_count": 62,
   "id": "641d2df0",
   "metadata": {},
   "outputs": [],
   "source": [
    "greeting.js_init(\"\"\"\n",
    "    var loop = {};\n",
    "    loop.name = \"loop\";\n",
    "    loop.reference = loop;\n",
    "    element.loop = loop;\n",
    "\"\"\")"
   ]
  },
  {
   "cell_type": "code",
   "execution_count": 63,
   "id": "68773b0e",
   "metadata": {},
   "outputs": [
    {
     "data": {
      "text/plain": [
       "{'name': 'loop', 'reference': {'name': 'loop', 'reference': None}}"
      ]
     },
     "execution_count": 63,
     "metadata": {},
     "output_type": "execute_result"
    }
   ],
   "source": [
    "await get(greeting.element.loop, to_depth=2)"
   ]
  },
  {
   "cell_type": "code",
   "execution_count": 64,
   "id": "6b3b0cc5",
   "metadata": {},
   "outputs": [
    {
     "data": {
      "text/plain": [
       "{'name': 'loop',\n",
       " 'reference': {'name': 'loop',\n",
       "  'reference': {'name': 'loop',\n",
       "   'reference': {'name': 'loop', 'reference': None}}}}"
      ]
     },
     "execution_count": 64,
     "metadata": {},
     "output_type": "execute_result"
    }
   ],
   "source": [
    "await get(greeting.element.loop, to_depth=4)"
   ]
  },
  {
   "cell_type": "code",
   "execution_count": 39,
   "id": "22de064f",
   "metadata": {},
   "outputs": [],
   "source": [
    "w = await get(greeting.window)"
   ]
  },
  {
   "cell_type": "code",
   "execution_count": 42,
   "id": "b58bcf7d",
   "metadata": {},
   "outputs": [
    {
     "data": {
      "text/plain": [
       "(227, 280592)"
      ]
     },
     "execution_count": 42,
     "metadata": {},
     "output_type": "execute_result"
    }
   ],
   "source": [
    "len(w), len(str(w))"
   ]
  },
  {
   "cell_type": "code",
   "execution_count": 41,
   "id": "23ab838a",
   "metadata": {},
   "outputs": [
    {
     "data": {
      "text/plain": [
       "280592"
      ]
     },
     "execution_count": 41,
     "metadata": {},
     "output_type": "execute_result"
    }
   ],
   "source": [
    "len(str(w))"
   ]
  },
  {
   "cell_type": "code",
   "execution_count": 46,
   "id": "eaf65f2c",
   "metadata": {},
   "outputs": [
    {
     "data": {
      "text/html": [
       "\n",
       "<script>\n",
       "(function () {\n",
       "    var identifier = \"Gizmo_1651093175260_19\";\n",
       "    window.addEventListener(\"message\", function(e) {\n",
       "        var this_frame = document.getElementById(identifier);\n",
       "        var margin = 10;\n",
       "        var min_height = 20;\n",
       "        if ((this_frame) && (this_frame.contentWindow === e.source)) {\n",
       "            //console.log(\"processing message\", e.data.height);\n",
       "            var height = Math.max(min_height, e.data.height + margin)\n",
       "            var height_px = (height) + \"px\";\n",
       "            this_frame.height = height_px;\n",
       "            this_frame.style.height = height_px;\n",
       "        }\n",
       "    });\n",
       "}) ();\n",
       "</script>\n",
       "\n",
       "<iframe id=\"Gizmo_1651093175260_19\"\n",
       "    title=\"Gizmo_1651093175260_19\"\n",
       "    width=\"100%\"\n",
       "    height=\"20px\"\n",
       "    src=\"http://192.168.1.173:8675/gizmo/http/MGR_1651093175260_20/index.html\"\n",
       "    allow=\"camera;microphone;display-capture;autoplay\"\n",
       "</iframe>"
      ],
      "text/plain": [
       "<IPython.core.display.HTML object>"
      ]
     },
     "metadata": {},
     "output_type": "display_data"
    }
   ],
   "source": [
    "from H5Gizmos import Html, name, get\n",
    "greeting = Html(\"<h4>Hello</h4>\")\n",
    "await greeting.show()"
   ]
  },
  {
   "cell_type": "code",
   "execution_count": 47,
   "id": "158fd32d",
   "metadata": {},
   "outputs": [],
   "source": [
    "location = name(\"location\", greeting.document.location)"
   ]
  },
  {
   "cell_type": "code",
   "execution_count": 48,
   "id": "623a8ca5",
   "metadata": {},
   "outputs": [
    {
     "data": {
      "text/plain": [
       "'http://192.168.1.173:8675/gizmo/http/MGR_1651093175260_20/index.html'"
      ]
     },
     "execution_count": 48,
     "metadata": {},
     "output_type": "execute_result"
    }
   ],
   "source": [
    "await get(location.toString())"
   ]
  },
  {
   "cell_type": "code",
   "execution_count": 50,
   "id": "e4413d2a",
   "metadata": {},
   "outputs": [],
   "source": []
  },
  {
   "cell_type": "code",
   "execution_count": 53,
   "id": "ad67c7b1",
   "metadata": {},
   "outputs": [
    {
     "data": {
      "text/html": [
       "\n",
       "<script>\n",
       "(function () {\n",
       "    var identifier = \"Gizmo_1651094763053_28\";\n",
       "    window.addEventListener(\"message\", function(e) {\n",
       "        var this_frame = document.getElementById(identifier);\n",
       "        var margin = 10;\n",
       "        var min_height = 20;\n",
       "        if ((this_frame) && (this_frame.contentWindow === e.source)) {\n",
       "            //console.log(\"processing message\", e.data.height);\n",
       "            var height = Math.max(min_height, e.data.height + margin)\n",
       "            var height_px = (height) + \"px\";\n",
       "            this_frame.height = height_px;\n",
       "            this_frame.style.height = height_px;\n",
       "        }\n",
       "    });\n",
       "}) ();\n",
       "</script>\n",
       "\n",
       "<iframe id=\"Gizmo_1651094763053_28\"\n",
       "    title=\"Gizmo_1651094763053_28\"\n",
       "    width=\"100%\"\n",
       "    height=\"20px\"\n",
       "    src=\"http://192.168.1.173:8675/gizmo/http/MGR_1651094763053_29/index.html\"\n",
       "    allow=\"camera;microphone;display-capture;autoplay\"\n",
       "</iframe>"
      ],
      "text/plain": [
       "<IPython.core.display.HTML object>"
      ]
     },
     "metadata": {},
     "output_type": "display_data"
    }
   ],
   "source": [
    "from H5Gizmos import Html, name, get\n",
    "greeting = Html(\"<h4>Hello</h4>\")\n",
    "await greeting.show()\n",
    "\n",
    "greeting.js_init(\"\"\"\n",
    "\n",
    "    element.send_value = function() {\n",
    "        return {\n",
    "            \"null\": null,\n",
    "            \"number\": 3.1,\n",
    "            \"string\": \"Bohemian Rhapsody\",\n",
    "            \"bool\": false,\n",
    "            \"dictionary\": {\"lie\": \"falsehood\"},\n",
    "            \"list\": [1,2,\"three\"],\n",
    "            \"Uint8Array\": new Uint8Array([0, 5, 211, 6]),\n",
    "            \"callable\": element.send_value,\n",
    "        }\n",
    "    };\n",
    "    \n",
    "\"\"\")"
   ]
  },
  {
   "cell_type": "code",
   "execution_count": 55,
   "id": "6df491dd",
   "metadata": {},
   "outputs": [
    {
     "data": {
      "text/plain": [
       "{'null': None,\n",
       " 'number': 3.1,\n",
       " 'string': 'Bohemian Rhapsody',\n",
       " 'bool': False,\n",
       " 'dictionary': {'lie': 'falsehood'},\n",
       " 'list': [1, 2, 'three'],\n",
       " 'Uint8Array': '0005d306',\n",
       " 'callable': {}}"
      ]
     },
     "execution_count": 55,
     "metadata": {},
     "output_type": "execute_result"
    }
   ],
   "source": [
    "js_value = await get(greeting.element.send_value())\n",
    "js_value"
   ]
  },
  {
   "cell_type": "code",
   "execution_count": 60,
   "id": "598bd57e",
   "metadata": {},
   "outputs": [
    {
     "data": {
      "text/plain": [
       "bytearray(b'\\x00\\x05\\xd3\\x06')"
      ]
     },
     "execution_count": 60,
     "metadata": {},
     "output_type": "execute_result"
    }
   ],
   "source": [
    "from H5Gizmos import hex_to_bytearray\n",
    "B = hex_to_bytearray(js_value[\"Uint8Array\"])\n",
    "B"
   ]
  },
  {
   "cell_type": "code",
   "execution_count": 58,
   "id": "75191e4d",
   "metadata": {},
   "outputs": [
    {
     "data": {
      "text/plain": [
       "[0, 5, 211, 6]"
      ]
     },
     "execution_count": 58,
     "metadata": {},
     "output_type": "execute_result"
    }
   ],
   "source": [
    "[int(x) for x in B]"
   ]
  },
  {
   "cell_type": "code",
   "execution_count": 59,
   "id": "1919ede3",
   "metadata": {},
   "outputs": [
    {
     "data": {
      "text/plain": [
       "['__add__',\n",
       " '__alloc__',\n",
       " '__class__',\n",
       " '__contains__',\n",
       " '__delattr__',\n",
       " '__delitem__',\n",
       " '__dir__',\n",
       " '__doc__',\n",
       " '__eq__',\n",
       " '__format__',\n",
       " '__ge__',\n",
       " '__getattribute__',\n",
       " '__getitem__',\n",
       " '__gt__',\n",
       " '__hash__',\n",
       " '__iadd__',\n",
       " '__imul__',\n",
       " '__init__',\n",
       " '__init_subclass__',\n",
       " '__iter__',\n",
       " '__le__',\n",
       " '__len__',\n",
       " '__lt__',\n",
       " '__mod__',\n",
       " '__mul__',\n",
       " '__ne__',\n",
       " '__new__',\n",
       " '__reduce__',\n",
       " '__reduce_ex__',\n",
       " '__repr__',\n",
       " '__rmod__',\n",
       " '__rmul__',\n",
       " '__setattr__',\n",
       " '__setitem__',\n",
       " '__sizeof__',\n",
       " '__str__',\n",
       " '__subclasshook__',\n",
       " 'append',\n",
       " 'capitalize',\n",
       " 'center',\n",
       " 'clear',\n",
       " 'copy',\n",
       " 'count',\n",
       " 'decode',\n",
       " 'endswith',\n",
       " 'expandtabs',\n",
       " 'extend',\n",
       " 'find',\n",
       " 'fromhex',\n",
       " 'hex',\n",
       " 'index',\n",
       " 'insert',\n",
       " 'isalnum',\n",
       " 'isalpha',\n",
       " 'isdigit',\n",
       " 'islower',\n",
       " 'isspace',\n",
       " 'istitle',\n",
       " 'isupper',\n",
       " 'join',\n",
       " 'ljust',\n",
       " 'lower',\n",
       " 'lstrip',\n",
       " 'maketrans',\n",
       " 'partition',\n",
       " 'pop',\n",
       " 'remove',\n",
       " 'replace',\n",
       " 'reverse',\n",
       " 'rfind',\n",
       " 'rindex',\n",
       " 'rjust',\n",
       " 'rpartition',\n",
       " 'rsplit',\n",
       " 'rstrip',\n",
       " 'split',\n",
       " 'splitlines',\n",
       " 'startswith',\n",
       " 'strip',\n",
       " 'swapcase',\n",
       " 'title',\n",
       " 'translate',\n",
       " 'upper',\n",
       " 'zfill']"
      ]
     },
     "execution_count": 59,
     "metadata": {},
     "output_type": "execute_result"
    }
   ],
   "source": []
  },
  {
   "cell_type": "code",
   "execution_count": 68,
   "id": "6b061b58",
   "metadata": {},
   "outputs": [
    {
     "data": {
      "text/html": [
       "\n",
       "<script>\n",
       "(function () {\n",
       "    var identifier = \"Gizmo_1651096115721_34\";\n",
       "    window.addEventListener(\"message\", function(e) {\n",
       "        var this_frame = document.getElementById(identifier);\n",
       "        var margin = 10;\n",
       "        var min_height = 20;\n",
       "        if ((this_frame) && (this_frame.contentWindow === e.source)) {\n",
       "            //console.log(\"processing message\", e.data.height);\n",
       "            var height = Math.max(min_height, e.data.height + margin)\n",
       "            var height_px = (height) + \"px\";\n",
       "            this_frame.height = height_px;\n",
       "            this_frame.style.height = height_px;\n",
       "        }\n",
       "    });\n",
       "}) ();\n",
       "</script>\n",
       "\n",
       "<iframe id=\"Gizmo_1651096115721_34\"\n",
       "    title=\"Gizmo_1651096115721_34\"\n",
       "    width=\"100%\"\n",
       "    height=\"20px\"\n",
       "    src=\"http://192.168.1.173:8675/gizmo/http/MGR_1651096115721_35/index.html\"\n",
       "    allow=\"camera;microphone;display-capture;autoplay\"\n",
       "</iframe>"
      ],
      "text/plain": [
       "<IPython.core.display.HTML object>"
      ]
     },
     "metadata": {},
     "output_type": "display_data"
    }
   ],
   "source": [
    "from H5Gizmos import Html, name, get\n",
    "greeting = Html(\"<h4>Hello</h4>\")\n",
    "await greeting.show()\n",
    "\n",
    "greeting.js_init(\"\"\"\n",
    "\n",
    "    element.value_never_resolves = function() {\n",
    "        return new H5Gizmos.DeferredValue();\n",
    "    };\n",
    "    \n",
    "\"\"\")"
   ]
  },
  {
   "cell_type": "code",
   "execution_count": 70,
   "id": "a3d4377e",
   "metadata": {},
   "outputs": [
    {
     "ename": "FutureTimeout",
     "evalue": "Timeout expired: 13",
     "output_type": "error",
     "traceback": [
      "\u001b[0;31m---------------------------------------------------------------------------\u001b[0m",
      "\u001b[0;31mFutureTimeout\u001b[0m                             Traceback (most recent call last)",
      "\u001b[0;32m<ipython-input-70-5f34819d9c7c>\u001b[0m in \u001b[0;36masync-def-wrapper\u001b[0;34m()\u001b[0m\n",
      "\u001b[0;32m~/repos/H5Gizmos/H5Gizmos/python/H5Gizmos.py\u001b[0m in \u001b[0;36mget\u001b[0;34m(link_action, to_depth, timeout)\u001b[0m\n\u001b[1;32m     37\u001b[0m     \u001b[0;34m\"Run the link in javascript and return the result.\"\u001b[0m\u001b[0;34m\u001b[0m\u001b[0;34m\u001b[0m\u001b[0m\n\u001b[1;32m     38\u001b[0m     \u001b[0;31m# command style convenience convenience accessor\u001b[0m\u001b[0;34m\u001b[0m\u001b[0;34m\u001b[0m\u001b[0;34m\u001b[0m\u001b[0m\n\u001b[0;32m---> 39\u001b[0;31m     \u001b[0;32mreturn\u001b[0m \u001b[0mawait\u001b[0m \u001b[0mlink_action\u001b[0m\u001b[0;34m.\u001b[0m\u001b[0m_get\u001b[0m\u001b[0;34m(\u001b[0m\u001b[0mto_depth\u001b[0m\u001b[0;34m=\u001b[0m\u001b[0mto_depth\u001b[0m\u001b[0;34m,\u001b[0m \u001b[0mtimeout\u001b[0m\u001b[0;34m=\u001b[0m\u001b[0mtimeout\u001b[0m\u001b[0;34m)\u001b[0m\u001b[0;34m\u001b[0m\u001b[0;34m\u001b[0m\u001b[0m\n\u001b[0m\u001b[1;32m     40\u001b[0m \u001b[0;34m\u001b[0m\u001b[0m\n\u001b[1;32m     41\u001b[0m \u001b[0;32mdef\u001b[0m \u001b[0mname\u001b[0m\u001b[0;34m(\u001b[0m\u001b[0mid\u001b[0m\u001b[0;34m,\u001b[0m \u001b[0mlink_action\u001b[0m\u001b[0;34m,\u001b[0m \u001b[0mto_depth\u001b[0m\u001b[0;34m=\u001b[0m\u001b[0;32mNone\u001b[0m\u001b[0;34m)\u001b[0m\u001b[0;34m:\u001b[0m\u001b[0;34m\u001b[0m\u001b[0;34m\u001b[0m\u001b[0m\n",
      "\u001b[0;32m~/repos/H5Gizmos/H5Gizmos/python/H5Gizmos.py\u001b[0m in \u001b[0;36m_get\u001b[0;34m(self, to_depth, timeout, oid, future, test_result)\u001b[0m\n\u001b[1;32m    661\u001b[0m         \u001b[0;32mif\u001b[0m \u001b[0mtest_result\u001b[0m \u001b[0;32mis\u001b[0m \u001b[0;32mnot\u001b[0m \u001b[0;32mNone\u001b[0m\u001b[0;34m:\u001b[0m\u001b[0;34m\u001b[0m\u001b[0;34m\u001b[0m\u001b[0m\n\u001b[1;32m    662\u001b[0m             \u001b[0;32mreturn\u001b[0m \u001b[0mtest_result\u001b[0m  \u001b[0;31m# only for code coverage...\u001b[0m\u001b[0;34m\u001b[0m\u001b[0;34m\u001b[0m\u001b[0m\n\u001b[0;32m--> 663\u001b[0;31m         \u001b[0mawait\u001b[0m \u001b[0mfuture\u001b[0m\u001b[0;34m\u001b[0m\u001b[0;34m\u001b[0m\u001b[0m\n\u001b[0m\u001b[1;32m    664\u001b[0m         \u001b[0mself\u001b[0m\u001b[0;34m.\u001b[0m\u001b[0m_get_oid\u001b[0m \u001b[0;34m=\u001b[0m \u001b[0;32mNone\u001b[0m\u001b[0;34m\u001b[0m\u001b[0;34m\u001b[0m\u001b[0m\n\u001b[1;32m    665\u001b[0m         \u001b[0mself\u001b[0m\u001b[0;34m.\u001b[0m\u001b[0m_get_future\u001b[0m \u001b[0;34m=\u001b[0m \u001b[0;32mNone\u001b[0m\u001b[0;34m\u001b[0m\u001b[0;34m\u001b[0m\u001b[0m\n",
      "\u001b[0;31mFutureTimeout\u001b[0m: Timeout expired: 13"
     ]
    }
   ],
   "source": [
    "await get(greeting.element.value_never_resolves(), timeout=13)"
   ]
  },
  {
   "cell_type": "code",
   "execution_count": null,
   "id": "768bd7cf",
   "metadata": {},
   "outputs": [],
   "source": []
  }
 ],
 "metadata": {
  "kernelspec": {
   "display_name": "Python 3",
   "language": "python",
   "name": "python3"
  },
  "language_info": {
   "codemirror_mode": {
    "name": "ipython",
    "version": 3
   },
   "file_extension": ".py",
   "mimetype": "text/x-python",
   "name": "python",
   "nbconvert_exporter": "python",
   "pygments_lexer": "ipython3",
   "version": "3.6.8"
  }
 },
 "nbformat": 4,
 "nbformat_minor": 5
}
