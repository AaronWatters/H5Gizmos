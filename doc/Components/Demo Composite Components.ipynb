{
 "cells": [
  {
   "cell_type": "markdown",
   "id": "906312fa",
   "metadata": {},
   "source": [
    "# This notebook provides simple example usages for composite H5Gizmo components\n",
    "\n",
    "Please see the \n",
    "<a href=\"https://github.com/AaronWatters/H5Gizmos/blob/main/doc/Components/Composite.md\">\n",
    "H5Gizmos composite components documentation</a>\n",
    "for discussions of theses examples."
   ]
  }
 ],
 "metadata": {
  "kernelspec": {
   "display_name": "Python 3",
   "language": "python",
   "name": "python3"
  },
  "language_info": {
   "codemirror_mode": {
    "name": "ipython",
    "version": 3
   },
   "file_extension": ".py",
   "mimetype": "text/x-python",
   "name": "python",
   "nbconvert_exporter": "python",
   "pygments_lexer": "ipython3",
   "version": "3.6.8"
  }
 },
 "nbformat": 4,
 "nbformat_minor": 5
}
