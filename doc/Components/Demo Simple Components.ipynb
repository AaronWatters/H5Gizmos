{
 "cells": [
  {
   "cell_type": "markdown",
   "id": "73b5d44c",
   "metadata": {},
   "source": [
    "# This notebook provides simple example usages for simple H5Gizmo components\n",
    "\n",
    "Please see the \n",
    "<a href=\"https://github.com/AaronWatters/H5Gizmos/blob/main/doc/Components/Simple.md\">\n",
    "H5Gizmos documentation</a>\n",
    "for discussions of theses examples."
   ]
  },
  {
   "cell_type": "code",
   "execution_count": null,
   "id": "f22e5311",
   "metadata": {},
   "outputs": [],
   "source": [
    "from H5Gizmos import Text\n",
    "\n",
    "txt = Text(\"Old Text\")\n",
    "txt.css(color=\"green\")\n",
    "await txt.show()"
   ]
  },
  {
   "cell_type": "code",
   "execution_count": null,
   "id": "7963b72f",
   "metadata": {},
   "outputs": [],
   "source": [
    "# Example of changing Text content.\n",
    "txt.css(color=\"red\")\n",
    "txt.text(\"New Text\")"
   ]
  },
  {
   "cell_type": "code",
   "execution_count": null,
   "id": "3d480e49",
   "metadata": {
    "scrolled": true
   },
   "outputs": [],
   "source": [
    "from H5Gizmos import Button\n",
    "\n",
    "count = 0\n",
    "\n",
    "def button_click_callback(*ignored):\n",
    "    global count\n",
    "    count += 1\n",
    "    info.text(\"Clicked = \" + str(count))\n",
    "    \n",
    "B = Button(\"Click me\", on_click=button_click_callback)\n",
    "await B.show()\n",
    "info = B.add(\"No clicks yet\")"
   ]
  },
  {
   "cell_type": "code",
   "execution_count": null,
   "id": "42772058",
   "metadata": {},
   "outputs": [],
   "source": [
    "from H5Gizmos import ClickableText\n",
    "\n",
    "count = 0\n",
    "\n",
    "def text_click_callback(*ignored):\n",
    "    global count\n",
    "    count += 1\n",
    "    CTinfo.text(\"Clicked = \" + str(count))\n",
    "    CTinfo.css(color=\"magenta\")\n",
    "    \n",
    "CT = ClickableText(\"Click me\", on_click=text_click_callback)\n",
    "await CT.show()\n",
    "CTinfo = CT.add(\"No clicks yet\")"
   ]
  },
  {
   "cell_type": "code",
   "execution_count": null,
   "id": "f1529c06",
   "metadata": {},
   "outputs": [],
   "source": [
    "from H5Gizmos import Html\n",
    "\n",
    "H = Html(\"\"\"\n",
    "<table border>\n",
    "    <tr>\n",
    "        <th> Species </th> <th> Count </th>\n",
    "    </tr>\n",
    "    <tr>\n",
    "        <td> Dog </td> <td> 5 </td>\n",
    "    </tr>\n",
    "    <tr>\n",
    "        <td> Cat </td> <td> 0 </td>\n",
    "    </tr>\n",
    "</table>\n",
    "\"\"\")\n",
    "H.css({\"background-color\": \"pink\"})\n",
    "await H.show()"
   ]
  },
  {
   "cell_type": "code",
   "execution_count": null,
   "id": "157b9cb4",
   "metadata": {},
   "outputs": [],
   "source": [
    "# example of chaning HTML content\n",
    "H.html(\"<h1>Have a nice day!</h1>\")"
   ]
  },
  {
   "cell_type": "code",
   "execution_count": null,
   "id": "801f0212",
   "metadata": {},
   "outputs": [],
   "source": [
    "from H5Gizmos import Input\n",
    "\n",
    "answer = Input(initial_value=\"-11\")\n",
    "await answer.show()\n",
    "answer.add(\"What is six times seven?\")\n",
    "feedback = answer.add(\"Enter your answer in the box above, please.\")\n",
    "answer.focus()\n",
    "\n",
    "def check(*ignored):\n",
    "    entered = answer.value\n",
    "    try:\n",
    "        assert int(entered) == 6 * 7\n",
    "    except Exception:\n",
    "        feedback.text(\"Sorry: please try again.\")\n",
    "        answer.focus()\n",
    "    else:\n",
    "        feedback.text(\"Right!\")\n",
    "        \n",
    "answer.on_enter(check)"
   ]
  },
  {
   "cell_type": "code",
   "execution_count": null,
   "id": "d8256263",
   "metadata": {},
   "outputs": [],
   "source": [
    "from H5Gizmos import LabelledInput\n",
    "\n",
    "LI = LabelledInput(\"What is your name? \")\n",
    "await LI.label_container.show()\n",
    "\n",
    "def on_response(*ignored):\n",
    "    name = LI.value\n",
    "    LI.label_container.add(\"Welcome \" + repr(name))\n",
    "    \n",
    "LI.on_enter(on_response)\n",
    "LI.focus()"
   ]
  },
  {
   "cell_type": "code",
   "execution_count": null,
   "id": "26d8729c",
   "metadata": {},
   "outputs": [],
   "source": [
    "LI.value"
   ]
  },
  {
   "cell_type": "code",
   "execution_count": null,
   "id": "3758007c",
   "metadata": {},
   "outputs": [],
   "source": [
    "from H5Gizmos import Slider\n",
    "\n",
    "def slide_callback(*ignored):\n",
    "    v = S.value\n",
    "    info.text(\"temperature = \" + str(v))\n",
    "    \n",
    "S = Slider(\n",
    "    minimum=-100,\n",
    "    maximum=150.0,\n",
    "    value=88.6,\n",
    "    step=0.2,\n",
    "    orientation=\"horizontal\", # or \"vertical\"\n",
    "    on_change=slide_callback,\n",
    ")\n",
    "S.resize(width=400)\n",
    "await S.show()\n",
    "info = S.add(\"temperature here...\")\n",
    "slide_callback()"
   ]
  },
  {
   "cell_type": "code",
   "execution_count": null,
   "id": "aab53f3c",
   "metadata": {},
   "outputs": [],
   "source": [
    "from H5Gizmos import RangeSlider\n",
    "\n",
    "def r_slide_callback(*ignored):\n",
    "    low = RS.low_value\n",
    "    high = RS.high_value\n",
    "    rinfo.text(\"from %s to %s.\" % (low, high))\n",
    "    \n",
    "RS = RangeSlider(\n",
    "    minimum=-100,\n",
    "    maximum=150.0,\n",
    "    low_value=23.4,\n",
    "    high_value=88.6,\n",
    "    step=0.2,\n",
    "    orientation=\"horizontal\", # or \"vertical\"\n",
    "    on_change=r_slide_callback,\n",
    ")\n",
    "RS.resize(width=400)\n",
    "await RS.show()\n",
    "rinfo = RS.add(\"temperature here...\")\n",
    "r_slide_callback()"
   ]
  },
  {
   "cell_type": "code",
   "execution_count": null,
   "id": "771d2dd1",
   "metadata": {},
   "outputs": [],
   "source": [
    "from H5Gizmos import DropDownSelect\n",
    "\n",
    "pairs = [\n",
    "    (\"Bacterium\", \"Monera\"),\n",
    "    (\"Single cell\", \"Protista\"),\n",
    "    (\"Plant\", \"Plantae\"),\n",
    "    (\"Animal\", \"Animalia\"),\n",
    "    (\"Fungus\", \"Fungi\"),\n",
    "]\n",
    "\n",
    "def dropdown_callback(*ignored):\n",
    "    [kingdom_name] = D.selected_values\n",
    "    kingdom.text(\"Kingdom is \" + kingdom_name)\n",
    "\n",
    "D = DropDownSelect(\n",
    "    label_value_pairs = pairs,\n",
    "    selected_value=\"Fungi\",\n",
    "    legend=\"What are you? \",\n",
    "    on_click=dropdown_callback,\n",
    ")\n",
    "D.resize(height=200)\n",
    "\n",
    "await D.show()\n",
    "kingdom = D.add(\"Kingdom here.\")\n",
    "dropdown_callback()"
   ]
  },
  {
   "cell_type": "code",
   "execution_count": null,
   "id": "d872c0e6",
   "metadata": {},
   "outputs": [],
   "source": [
    "D.selected_values"
   ]
  },
  {
   "cell_type": "code",
   "execution_count": null,
   "id": "ca09da18",
   "metadata": {},
   "outputs": [],
   "source": [
    "from H5Gizmos import RadioButtons\n",
    "\n",
    "pairs = [\n",
    "    (\"Bacterium\", \"Monera\"),\n",
    "    (\"Single cell\", \"Protista\"),\n",
    "    (\"Plant\", \"Plantae\"),\n",
    "    (\"Animal\", \"Animalia\"),\n",
    "    (\"Fungus\", \"Fungi\"),\n",
    "]\n",
    "\n",
    "def radio_callback(*ignored):\n",
    "    [kingdom_name] = RD.selected_values\n",
    "    rkingdom.text(\"Kingdom is \" + kingdom_name)\n",
    "\n",
    "RD = RadioButtons(\n",
    "    label_value_pairs = pairs,\n",
    "    selected_value=\"Fungi\",\n",
    "    legend=\"What are you? \",\n",
    "    on_click=radio_callback,\n",
    ")\n",
    "\n",
    "await RD.show()\n",
    "rkingdom = RD.add(\"Kingdom here.\")\n",
    "radio_callback()"
   ]
  },
  {
   "cell_type": "code",
   "execution_count": null,
   "id": "d976abdf",
   "metadata": {},
   "outputs": [],
   "source": [
    "from H5Gizmos import CheckBoxes\n",
    "\n",
    "pairs = [\n",
    "    (\"Bacterium\", \"Monera\"),\n",
    "    (\"Single cell\", \"Protista\"),\n",
    "    (\"Plant\", \"Plantae\"),\n",
    "    (\"Animal\", \"Animalia\"),\n",
    "    (\"Fungus\", \"Fungi\"),\n",
    "]\n",
    "\n",
    "def check_callback(*ignored):\n",
    "    names = CB.selected_values\n",
    "    cbkingdom.text(\"Kingdoms: \" + repr(names))\n",
    "\n",
    "CB = CheckBoxes(\n",
    "    label_value_pairs = pairs,\n",
    "    selected_values=[\"Fungi\", \"Plantae\"],\n",
    "    legend=\"What are you? \",\n",
    "    on_click=check_callback,\n",
    ")\n",
    "\n",
    "await CB.show()\n",
    "cbkingdom = CB.add(\"Kingdom here.\")\n",
    "check_callback()"
   ]
  },
  {
   "cell_type": "code",
   "execution_count": null,
   "id": "e49ee1bb",
   "metadata": {},
   "outputs": [],
   "source": [
    "CB.selected_values"
   ]
  },
  {
   "cell_type": "code",
   "execution_count": null,
   "id": "501d5b82",
   "metadata": {},
   "outputs": [],
   "source": [
    "from H5Gizmos import Image\n",
    "\n",
    "fn = \"mandrill.png\"\n",
    "mandrill_bytes = open(fn, \"rb\").read()\n",
    "Img = Image(fn, bytes_content=mandrill_bytes, height=100, width=100)\n",
    "await Img.show()"
   ]
  },
  {
   "cell_type": "code",
   "execution_count": null,
   "id": "ee5ed9c4",
   "metadata": {},
   "outputs": [],
   "source": [
    "import numpy as np\n",
    "A = np.zeros((25,), dtype=np.ubyte) + 222\n",
    "B = A.reshape((5,5))\n",
    "B[4,:] = B[0,:] = B[:,4] = B[:,0] = 100\n",
    "A[::2] = 0\n",
    "Img.change_array(B)\n",
    "Img.css({\"image-rendering\": \"pixelated\"})"
   ]
  },
  {
   "cell_type": "code",
   "execution_count": null,
   "id": "1b2fe5f3",
   "metadata": {},
   "outputs": [],
   "source": [
    "Blank = Image(height=100, width=200)\n",
    "await Blank.show()"
   ]
  },
  {
   "cell_type": "code",
   "execution_count": null,
   "id": "5a11685e",
   "metadata": {},
   "outputs": [],
   "source": [
    "import numpy as np\n",
    "A = np.zeros((25,), dtype=np.ubyte) + 222\n",
    "B = A.reshape((5,5))\n",
    "B[4,:] = B[0,:] = B[:,4] = B[:,0] = 100\n",
    "A[::2] = 0\n",
    "Blank.change_array(B)\n",
    "Blank.css({\"image-rendering\": \"pixelated\"})"
   ]
  },
  {
   "cell_type": "code",
   "execution_count": null,
   "id": "890f50b3",
   "metadata": {},
   "outputs": [],
   "source": [
    "from H5Gizmos import Plotter\n",
    "import matplotlib.pyplot as plt\n",
    "\n",
    "plot_region = Plotter()\n",
    "\n",
    "await plot_region.show()"
   ]
  },
  {
   "cell_type": "code",
   "execution_count": null,
   "id": "86664cc6",
   "metadata": {},
   "outputs": [],
   "source": [
    "import numpy as np\n",
    "import matplotlib.pyplot as plt\n",
    "\n",
    "theta = 6 * np.pi / 5\n",
    "xs = [ np.sin(theta * i) for i in range(6) ]\n",
    "ys = [ np.cos(theta * i) for i in range(6) ]\n",
    "\n",
    "with plot_region:\n",
    "    plt.plot(xs, ys)\n",
    "    plt.title(\"Twinkle Twinkle Little Star\")"
   ]
  },
  {
   "cell_type": "code",
   "execution_count": null,
   "id": "c02d1a9d",
   "metadata": {},
   "outputs": [],
   "source": []
  }
 ],
 "metadata": {
  "kernelspec": {
   "display_name": "Python 3",
   "language": "python",
   "name": "python3"
  },
  "language_info": {
   "codemirror_mode": {
    "name": "ipython",
    "version": 3
   },
   "file_extension": ".py",
   "mimetype": "text/x-python",
   "name": "python",
   "nbconvert_exporter": "python",
   "pygments_lexer": "ipython3",
   "version": "3.6.8"
  }
 },
 "nbformat": 4,
 "nbformat_minor": 5
}
