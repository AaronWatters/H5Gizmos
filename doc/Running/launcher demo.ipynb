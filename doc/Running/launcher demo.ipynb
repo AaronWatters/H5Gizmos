{
 "cells": [
  {
   "cell_type": "markdown",
   "id": "41925479",
   "metadata": {},
   "source": [
    "## Demonstration of launching a component in a new window using a link"
   ]
  },
  {
   "cell_type": "code",
   "execution_count": null,
   "id": "045536ea",
   "metadata": {},
   "outputs": [],
   "source": [
    "from H5Gizmos import Html, Stack\n",
    "\n",
    "dog_page = \"\"\"\n",
    "<div>\n",
    "<h3>This is a dog</h3>\n",
    "<img src=\"local_files/dog.png\" width=\"200\" height=\"200\"/>\n",
    "</div>\n",
    "\"\"\"\n",
    "\n",
    "main_component = Html(dog_page)\n",
    "main_component.serve_folder(\"local_files\", \"./example_folder\")\n",
    "\n",
    "# Initialize the main component\n",
    "await main_component.show()\n",
    "\n",
    "# Attach a \"more info\" link which presents more information in a new tab.\n",
    "more_info = \"\"\"\n",
    "<div>\n",
    "<h3>Dog</h3>\n",
    "<h5>From Wikipedia, the free encyclopedia</h5>\n",
    "<p>The dog (Canis familiaris or Canis lupus familiaris) is a domesticated descendant of the wolf...</p>\n",
    "</div>\n",
    "\"\"\"\n",
    "\n",
    "def info_launcher_function():\n",
    "    return Html(more_info)\n",
    "\n",
    "link = main_component.launcher_link(\"More information about dogs.\", info_launcher_function)\n",
    "main_component.add(link)"
   ]
  },
  {
   "cell_type": "code",
   "execution_count": null,
   "id": "0ddd77e1",
   "metadata": {},
   "outputs": [],
   "source": [
    "link"
   ]
  },
  {
   "cell_type": "code",
   "execution_count": null,
   "id": "4e67c0fd",
   "metadata": {},
   "outputs": [],
   "source": []
  }
 ],
 "metadata": {
  "kernelspec": {
   "display_name": "Python 3 (ipykernel)",
   "language": "python",
   "name": "python3"
  },
  "language_info": {
   "codemirror_mode": {
    "name": "ipython",
    "version": 3
   },
   "file_extension": ".py",
   "mimetype": "text/x-python",
   "name": "python",
   "nbconvert_exporter": "python",
   "pygments_lexer": "ipython3",
   "version": "3.9.13"
  }
 },
 "nbformat": 4,
 "nbformat_minor": 5
}
