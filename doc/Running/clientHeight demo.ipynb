{
 "cells": [
  {
   "cell_type": "code",
   "execution_count": 1,
   "id": "538c91f6",
   "metadata": {},
   "outputs": [
    {
     "data": {
      "text/html": [
       "\n",
       "<script>\n",
       "(function () {\n",
       "    var identifier = \"Gizmo_1650636605600_1\";\n",
       "    window.addEventListener(\"message\", function(e) {\n",
       "        var this_frame = document.getElementById(identifier);\n",
       "        var margin = 10;\n",
       "        var min_height = 20;\n",
       "        if ((this_frame) && (this_frame.contentWindow === e.source)) {\n",
       "            //console.log(\"processing message\", e.data.height);\n",
       "            var height = Math.max(min_height, e.data.height + margin)\n",
       "            var height_px = (height) + \"px\";\n",
       "            this_frame.height = height_px;\n",
       "            this_frame.style.height = height_px;\n",
       "        }\n",
       "    });\n",
       "}) ();\n",
       "</script>\n",
       "\n",
       "<iframe id=\"Gizmo_1650636605600_1\"\n",
       "    title=\"Gizmo_1650636605600_1\"\n",
       "    width=\"100%\"\n",
       "    height=\"20px\"\n",
       "    src=\"http://127.0.0.1:8676/gizmo/http/MGR_1650636605600_2/index.html\"\n",
       "    allow=\"camera;microphone;display-capture;autoplay\"\n",
       "</iframe>"
      ],
      "text/plain": [
       "<IPython.core.display.HTML object>"
      ]
     },
     "metadata": {},
     "output_type": "display_data"
    }
   ],
   "source": [
    "from H5Gizmos import Html, get\n",
    "\n",
    "image = Html('<img src=\"local_files/dog.png\" width=\"200\" height=\"200\"/>')\n",
    "image.serve_folder(\"local_files\", \"./example_folder\")\n",
    "await image.show()"
   ]
  },
  {
   "cell_type": "code",
   "execution_count": 3,
   "id": "4ad200c5",
   "metadata": {},
   "outputs": [
    {
     "data": {
      "text/plain": [
       "203"
      ]
     },
     "execution_count": 3,
     "metadata": {},
     "output_type": "execute_result"
    }
   ],
   "source": [
    "await get(image.element[0].parentElement.clientHeight)"
   ]
  },
  {
   "cell_type": "code",
   "execution_count": 6,
   "id": "234cb3cd",
   "metadata": {},
   "outputs": [
    {
     "data": {
      "text/plain": [
       "'http://127.0.0.1:8676/gizmo/http/MGR_1650636605600_2/index.html'"
      ]
     },
     "execution_count": 6,
     "metadata": {},
     "output_type": "execute_result"
    }
   ],
   "source": [
    "await get(image.window.document.location.href)"
   ]
  },
  {
   "cell_type": "code",
   "execution_count": null,
   "id": "61483928",
   "metadata": {},
   "outputs": [],
   "source": []
  }
 ],
 "metadata": {
  "kernelspec": {
   "display_name": "Python 3",
   "language": "python",
   "name": "python3"
  },
  "language_info": {
   "codemirror_mode": {
    "name": "ipython",
    "version": 3
   },
   "file_extension": ".py",
   "mimetype": "text/x-python",
   "name": "python",
   "nbconvert_exporter": "python",
   "pygments_lexer": "ipython3",
   "version": "3.6.8"
  }
 },
 "nbformat": 4,
 "nbformat_minor": 5
}
