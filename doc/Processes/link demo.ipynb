{
 "cells": [
  {
   "cell_type": "code",
   "execution_count": 1,
   "id": "375ba9a7",
   "metadata": {},
   "outputs": [
    {
     "data": {
      "text/html": [
       "<h4>Open gizmo using link</h4>\n",
       "<a href=\"http://192.168.1.173:8676/gizmo/http/MGR0/index.html\" target=\"_blank\">gizmo link.</a> \n",
       " (http://192.168.1.173:8676/gizmo/http/MGR0/index.html)"
      ],
      "text/plain": [
       "<IPython.core.display.HTML object>"
      ]
     },
     "metadata": {},
     "output_type": "display_data"
    }
   ],
   "source": [
    "from H5Gizmos import Html\n",
    "\n",
    "greeting = Html(\"<h1>Hello</h1>\")\n",
    "await greeting.link()"
   ]
  },
  {
   "cell_type": "code",
   "execution_count": null,
   "id": "4ef4a28c",
   "metadata": {},
   "outputs": [],
   "source": []
  }
 ],
 "metadata": {
  "kernelspec": {
   "display_name": "Python 3",
   "language": "python",
   "name": "python3"
  },
  "language_info": {
   "codemirror_mode": {
    "name": "ipython",
    "version": 3
   },
   "file_extension": ".py",
   "mimetype": "text/x-python",
   "name": "python",
   "nbconvert_exporter": "python",
   "pygments_lexer": "ipython3",
   "version": "3.6.8"
  }
 },
 "nbformat": 4,
 "nbformat_minor": 5
}
