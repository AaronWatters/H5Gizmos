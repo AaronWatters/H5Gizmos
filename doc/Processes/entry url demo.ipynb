{
 "cells": [
  {
   "cell_type": "code",
   "execution_count": 5,
   "id": "b184fd4c",
   "metadata": {},
   "outputs": [],
   "source": [
    "from H5Gizmos import Html, schedule_task\n",
    "\n",
    "greeting = Html(\"<h1>Hello</h1>\")"
   ]
  },
  {
   "cell_type": "code",
   "execution_count": 6,
   "id": "e55b7f1b",
   "metadata": {},
   "outputs": [
    {
     "data": {
      "text/plain": [
       "<Task pending coro=<start_task() running at <ipython-input-6-03bfacde2e3a>:1>>"
      ]
     },
     "execution_count": 6,
     "metadata": {},
     "output_type": "execute_result"
    },
    {
     "name": "stdout",
     "output_type": "stream",
     "text": [
      "\u001b[92m\n",
      "Open gizmo using link (control-click / open link)\n",
      "\n",
      "<a href=\"http://192.168.1.173:8677/gizmo/http/MGR0/index.html\" target=\"_blank\">gizmo link.</a> \n",
      " (http://192.168.1.173:8677/gizmo/http/MGR0/index.html)\n",
      "\n",
      "\n",
      "\u001b[0m\n"
     ]
    }
   ],
   "source": [
    "async def start_task():\n",
    "    await greeting.link()\n",
    "    \n",
    "schedule_task(start_task())"
   ]
  },
  {
   "cell_type": "code",
   "execution_count": 9,
   "id": "375ba9a7",
   "metadata": {},
   "outputs": [
    {
     "data": {
      "text/plain": [
       "'http://192.168.1.173:8677/gizmo/http/MGR0/index.html'"
      ]
     },
     "execution_count": 9,
     "metadata": {},
     "output_type": "execute_result"
    }
   ],
   "source": [
    "url = greeting.entry_url()\n",
    "url"
   ]
  },
  {
   "cell_type": "code",
   "execution_count": 10,
   "id": "4ef4a28c",
   "metadata": {},
   "outputs": [
    {
     "data": {
      "text/plain": [
       "True"
      ]
     },
     "execution_count": 10,
     "metadata": {},
     "output_type": "execute_result"
    }
   ],
   "source": [
    "import webbrowser\n",
    "webbrowser.open_new(url)"
   ]
  },
  {
   "cell_type": "code",
   "execution_count": null,
   "id": "19724a97",
   "metadata": {},
   "outputs": [],
   "source": []
  }
 ],
 "metadata": {
  "kernelspec": {
   "display_name": "Python 3",
   "language": "python",
   "name": "python3"
  },
  "language_info": {
   "codemirror_mode": {
    "name": "ipython",
    "version": 3
   },
   "file_extension": ".py",
   "mimetype": "text/x-python",
   "name": "python",
   "nbconvert_exporter": "python",
   "pygments_lexer": "ipython3",
   "version": "3.6.8"
  }
 },
 "nbformat": 4,
 "nbformat_minor": 5
}
