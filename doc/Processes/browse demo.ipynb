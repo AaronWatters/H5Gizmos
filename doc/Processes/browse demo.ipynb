{
 "cells": [
  {
   "cell_type": "code",
   "execution_count": 1,
   "id": "375ba9a7",
   "metadata": {},
   "outputs": [
    {
     "name": "stdout",
     "output_type": "stream",
     "text": [
      "Displaying gizmo component in new browser window.\n",
      "   entry_url= http://192.168.1.173:8675/gizmo/http/MGR0/index.html\n",
      "runner using port 8675\n",
      "======== Running on http://0.0.0.0:8675 ========\n",
      "(Press CTRL+C to quit)\n"
     ]
    }
   ],
   "source": [
    "from H5Gizmos import Html\n",
    "\n",
    "greeting = Html(\"<h1>Hello</h1>\")\n",
    "await greeting.browse()"
   ]
  },
  {
   "cell_type": "code",
   "execution_count": null,
   "id": "4ef4a28c",
   "metadata": {},
   "outputs": [],
   "source": []
  }
 ],
 "metadata": {
  "kernelspec": {
   "display_name": "Python 3",
   "language": "python",
   "name": "python3"
  },
  "language_info": {
   "codemirror_mode": {
    "name": "ipython",
    "version": 3
   },
   "file_extension": ".py",
   "mimetype": "text/x-python",
   "name": "python",
   "nbconvert_exporter": "python",
   "pygments_lexer": "ipython3",
   "version": "3.6.8"
  }
 },
 "nbformat": 4,
 "nbformat_minor": 5
}
